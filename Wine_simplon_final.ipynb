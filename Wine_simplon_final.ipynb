{
  "nbformat": 4,
  "nbformat_minor": 0,
  "metadata": {
    "colab": {
      "name": "Wine_simplon_final.ipynb",
      "provenance": [],
      "collapsed_sections": [
        "trC5ZxqFD54_",
        "j9YSEro9iOJL",
        "SNdJEEiCgwVJ",
        "wet56S3pUuN0",
        "eQYGMFGIajDW",
        "rzFkQ88rpB6P",
        "ONFcqw2Zz46U",
        "pNuSiT1esno7",
        "EeBv-1lTYW5B",
        "4pYNNwNAc26U",
        "b4bAP6clW_Im",
        "u1DioGgXa_x2",
        "tK0KdiCWR7R_",
        "LvmbLRqeSXtt"
      ]
    },
    "kernelspec": {
      "name": "python3",
      "display_name": "Python 3"
    },
    "language_info": {
      "name": "python"
    }
  },
  "cells": [
    {
      "cell_type": "markdown",
      "metadata": {
        "id": "1xDEsTu_DSIp"
      },
      "source": [
        "# Import données et librairies\n",
        "---\n",
        "\n"
      ]
    },
    {
      "cell_type": "code",
      "metadata": {
        "colab": {
          "base_uri": "https://localhost:8080/"
        },
        "id": "2DpDjQz3UVPu",
        "outputId": "3015d4a8-0619-43fc-d0ad-9cfebf2a1ae0"
      },
      "source": [
        "from google.colab import drive\n",
        "drive.mount(\"/content/gdrive\", force_remount=True)"
      ],
      "execution_count": 147,
      "outputs": [
        {
          "output_type": "stream",
          "text": [
            "Mounted at /content/gdrive\n"
          ],
          "name": "stdout"
        }
      ]
    },
    {
      "cell_type": "code",
      "metadata": {
        "id": "A-HDRp7VVpA0"
      },
      "source": [
        "import pandas as pd\n",
        "import numpy as np\n",
        "import seaborn as sns\n",
        "from scipy import stats\n",
        "import matplotlib.pyplot as plt\n",
        "from matplotlib.collections import LineCollection\n",
        "import numpy as np\n",
        "import pandas as pd\n",
        "from scipy.cluster.hierarchy import dendrogram\n",
        "from sklearn import decomposition\n",
        "from sklearn import preprocessing\n",
        "from sklearn.metrics import silhouette_samples, silhouette_score\n",
        "from textblob import TextBlob\n",
        "from wordcloud import WordCloud\n",
        "sns.set(rc={'figure.figsize':(12,7)})"
      ],
      "execution_count": 148,
      "outputs": []
    },
    {
      "cell_type": "code",
      "metadata": {
        "id": "zILUaAA4Wbug"
      },
      "source": [
        "df_erp_original = pd.read_excel('/content/gdrive/MyDrive/Datasets/Wine_simplon/erp.xlsx')\n",
        "df_liaison_original = pd.read_excel('/content/gdrive/MyDrive/Datasets/Wine_simplon/liaison.xlsx')\n",
        "df_web_original = pd.read_excel('/content/gdrive/MyDrive/Datasets/Wine_simplon/web.xlsx')\n",
        "df_erp, df_liaison, df_web = df_erp_original, df_liaison_original, df_web_original"
      ],
      "execution_count": 149,
      "outputs": []
    },
    {
      "cell_type": "markdown",
      "metadata": {
        "id": "trC5ZxqFD54_"
      },
      "source": [
        "## Preprocessing"
      ]
    },
    {
      "cell_type": "code",
      "metadata": {
        "id": "tfK5tm6lZcrk"
      },
      "source": [
        "df_web = df_web.drop_duplicates(subset=['sku'])\n",
        "df_temp = pd.merge(df_erp,\n",
        "                        df_liaison,left_on='product_id', right_on='product_id', how=\"inner\")\n",
        "df_full =  pd.merge(df_temp,\n",
        "                        df_web, left_on='id_web', right_on='sku', how=\"inner\")\n",
        "df_full.sort_values('price', ascending = False, inplace = True)"
      ],
      "execution_count": 150,
      "outputs": []
    },
    {
      "cell_type": "markdown",
      "metadata": {
        "id": "dIsb2qrCj5yK"
      },
      "source": [
        "here we just take a look on our dataset"
      ]
    },
    {
      "cell_type": "code",
      "metadata": {
        "id": "kXiUupbVAGv2",
        "colab": {
          "base_uri": "https://localhost:8080/",
          "height": 0
        },
        "outputId": "a78fa39c-8153-45d8-e5fd-c1f7d6e0b0de"
      },
      "source": [
        "print(df_full.head())\n",
        "print(df_full.shape)\n",
        "df_full.drop_duplicates()\n",
        "print(df_full.info())\n",
        "print(df_full.describe())\n",
        "print(df_full.shape)\n",
        "df_full"
      ],
      "execution_count": 151,
      "outputs": [
        {
          "output_type": "stream",
          "text": [
            "     product_id  onsale_web  price  ...  post_type post_mime_type comment_count\n",
            "290        4352           1  225.0  ...    product            NaN           0.0\n",
            "517        5001           1  217.5  ...    product            NaN           0.0\n",
            "678        5892           1  191.3  ...    product            NaN           0.0\n",
            "309        4402           1  176.0  ...    product            NaN           0.0\n",
            "644        5767           1  175.0  ...    product            NaN           0.0\n",
            "\n",
            "[5 rows x 34 columns]\n",
            "(805, 34)\n",
            "<class 'pandas.core.frame.DataFrame'>\n",
            "Int64Index: 805 entries, 290 to 736\n",
            "Data columns (total 34 columns):\n",
            " #   Column                 Non-Null Count  Dtype         \n",
            "---  ------                 --------------  -----         \n",
            " 0   product_id             805 non-null    int64         \n",
            " 1   onsale_web             805 non-null    int64         \n",
            " 2   price                  805 non-null    float64       \n",
            " 3   stock_quantity         805 non-null    int64         \n",
            " 4   stock_status           805 non-null    object        \n",
            " 5   id_web                 714 non-null    object        \n",
            " 6   sku                    714 non-null    object        \n",
            " 7   virtual                805 non-null    int64         \n",
            " 8   downloadable           805 non-null    int64         \n",
            " 9   rating_count           805 non-null    int64         \n",
            " 10  average_rating         714 non-null    float64       \n",
            " 11  total_sales            714 non-null    float64       \n",
            " 12  tax_status             714 non-null    object        \n",
            " 13  tax_class              0 non-null      float64       \n",
            " 14  post_author            714 non-null    float64       \n",
            " 15  post_date              714 non-null    datetime64[ns]\n",
            " 16  post_date_gmt          714 non-null    datetime64[ns]\n",
            " 17  post_content           0 non-null      float64       \n",
            " 18  post_title             714 non-null    object        \n",
            " 19  post_excerpt           714 non-null    object        \n",
            " 20  post_status            714 non-null    object        \n",
            " 21  comment_status         714 non-null    object        \n",
            " 22  ping_status            714 non-null    object        \n",
            " 23  post_password          0 non-null      float64       \n",
            " 24  post_name              714 non-null    object        \n",
            " 25  post_modified          714 non-null    datetime64[ns]\n",
            " 26  post_modified_gmt      714 non-null    datetime64[ns]\n",
            " 27  post_content_filtered  0 non-null      float64       \n",
            " 28  post_parent            714 non-null    float64       \n",
            " 29  guid                   714 non-null    object        \n",
            " 30  menu_order             714 non-null    float64       \n",
            " 31  post_type              714 non-null    object        \n",
            " 32  post_mime_type         0 non-null      object        \n",
            " 33  comment_count          714 non-null    float64       \n",
            "dtypes: datetime64[ns](4), float64(11), int64(6), object(13)\n",
            "memory usage: 220.1+ KB\n",
            "None\n",
            "        product_id  onsale_web  ...  menu_order  comment_count\n",
            "count   805.000000  805.000000  ...       714.0          714.0\n",
            "mean   5157.346584    0.890683  ...         0.0            0.0\n",
            "std     906.345506    0.312230  ...         0.0            0.0\n",
            "min    3847.000000    0.000000  ...         0.0            0.0\n",
            "25%    4307.000000    1.000000  ...         0.0            0.0\n",
            "50%    4901.000000    1.000000  ...         0.0            0.0\n",
            "75%    5804.000000    1.000000  ...         0.0            0.0\n",
            "max    7338.000000    1.000000  ...         0.0            0.0\n",
            "\n",
            "[8 rows x 17 columns]\n",
            "(805, 34)\n"
          ],
          "name": "stdout"
        },
        {
          "output_type": "execute_result",
          "data": {
            "text/html": [
              "<div>\n",
              "<style scoped>\n",
              "    .dataframe tbody tr th:only-of-type {\n",
              "        vertical-align: middle;\n",
              "    }\n",
              "\n",
              "    .dataframe tbody tr th {\n",
              "        vertical-align: top;\n",
              "    }\n",
              "\n",
              "    .dataframe thead th {\n",
              "        text-align: right;\n",
              "    }\n",
              "</style>\n",
              "<table border=\"1\" class=\"dataframe\">\n",
              "  <thead>\n",
              "    <tr style=\"text-align: right;\">\n",
              "      <th></th>\n",
              "      <th>product_id</th>\n",
              "      <th>onsale_web</th>\n",
              "      <th>price</th>\n",
              "      <th>stock_quantity</th>\n",
              "      <th>stock_status</th>\n",
              "      <th>id_web</th>\n",
              "      <th>sku</th>\n",
              "      <th>virtual</th>\n",
              "      <th>downloadable</th>\n",
              "      <th>rating_count</th>\n",
              "      <th>average_rating</th>\n",
              "      <th>total_sales</th>\n",
              "      <th>tax_status</th>\n",
              "      <th>tax_class</th>\n",
              "      <th>post_author</th>\n",
              "      <th>post_date</th>\n",
              "      <th>post_date_gmt</th>\n",
              "      <th>post_content</th>\n",
              "      <th>post_title</th>\n",
              "      <th>post_excerpt</th>\n",
              "      <th>post_status</th>\n",
              "      <th>comment_status</th>\n",
              "      <th>ping_status</th>\n",
              "      <th>post_password</th>\n",
              "      <th>post_name</th>\n",
              "      <th>post_modified</th>\n",
              "      <th>post_modified_gmt</th>\n",
              "      <th>post_content_filtered</th>\n",
              "      <th>post_parent</th>\n",
              "      <th>guid</th>\n",
              "      <th>menu_order</th>\n",
              "      <th>post_type</th>\n",
              "      <th>post_mime_type</th>\n",
              "      <th>comment_count</th>\n",
              "    </tr>\n",
              "  </thead>\n",
              "  <tbody>\n",
              "    <tr>\n",
              "      <th>290</th>\n",
              "      <td>4352</td>\n",
              "      <td>1</td>\n",
              "      <td>225.0</td>\n",
              "      <td>0</td>\n",
              "      <td>outofstock</td>\n",
              "      <td>15940</td>\n",
              "      <td>15940</td>\n",
              "      <td>0</td>\n",
              "      <td>0</td>\n",
              "      <td>0</td>\n",
              "      <td>0.0</td>\n",
              "      <td>5.0</td>\n",
              "      <td>taxable</td>\n",
              "      <td>NaN</td>\n",
              "      <td>2.0</td>\n",
              "      <td>2018-03-02 10:30:04</td>\n",
              "      <td>2018-03-02 09:30:04</td>\n",
              "      <td>NaN</td>\n",
              "      <td>Champagne Egly-Ouriet Grand Cru Millésimé 2008</td>\n",
              "      <td>Issu d’un assemblage de 70% de Pinot Noir du g...</td>\n",
              "      <td>publish</td>\n",
              "      <td>closed</td>\n",
              "      <td>closed</td>\n",
              "      <td>NaN</td>\n",
              "      <td>champagne-egly-ouriet-grand-cru-millesime-2008</td>\n",
              "      <td>2020-03-07 11:18:45</td>\n",
              "      <td>2020-03-07 10:18:45</td>\n",
              "      <td>NaN</td>\n",
              "      <td>0.0</td>\n",
              "      <td>https://www.wine-spirit.fr/?post_type=product&amp;...</td>\n",
              "      <td>0.0</td>\n",
              "      <td>product</td>\n",
              "      <td>NaN</td>\n",
              "      <td>0.0</td>\n",
              "    </tr>\n",
              "    <tr>\n",
              "      <th>517</th>\n",
              "      <td>5001</td>\n",
              "      <td>1</td>\n",
              "      <td>217.5</td>\n",
              "      <td>20</td>\n",
              "      <td>instock</td>\n",
              "      <td>14581</td>\n",
              "      <td>14581</td>\n",
              "      <td>0</td>\n",
              "      <td>0</td>\n",
              "      <td>0</td>\n",
              "      <td>0.0</td>\n",
              "      <td>0.0</td>\n",
              "      <td>taxable</td>\n",
              "      <td>NaN</td>\n",
              "      <td>2.0</td>\n",
              "      <td>2018-07-17 09:45:39</td>\n",
              "      <td>2018-07-17 07:45:39</td>\n",
              "      <td>NaN</td>\n",
              "      <td>David Duband Charmes-Chambertin Grand Cru 2014</td>\n",
              "      <td>Robe cerise chatoyante. Un nez de fruits rouge...</td>\n",
              "      <td>publish</td>\n",
              "      <td>closed</td>\n",
              "      <td>closed</td>\n",
              "      <td>NaN</td>\n",
              "      <td>david-duband-charmes-chambertin-grand-cru-2014</td>\n",
              "      <td>2020-05-16 09:00:05</td>\n",
              "      <td>2020-05-16 07:00:05</td>\n",
              "      <td>NaN</td>\n",
              "      <td>0.0</td>\n",
              "      <td>https://www.wine-spirit.fr/?post_type=product&amp;...</td>\n",
              "      <td>0.0</td>\n",
              "      <td>product</td>\n",
              "      <td>NaN</td>\n",
              "      <td>0.0</td>\n",
              "    </tr>\n",
              "    <tr>\n",
              "      <th>678</th>\n",
              "      <td>5892</td>\n",
              "      <td>1</td>\n",
              "      <td>191.3</td>\n",
              "      <td>10</td>\n",
              "      <td>instock</td>\n",
              "      <td>14983</td>\n",
              "      <td>14983</td>\n",
              "      <td>0</td>\n",
              "      <td>0</td>\n",
              "      <td>0</td>\n",
              "      <td>0.0</td>\n",
              "      <td>3.0</td>\n",
              "      <td>taxable</td>\n",
              "      <td>NaN</td>\n",
              "      <td>2.0</td>\n",
              "      <td>2019-03-28 10:21:36</td>\n",
              "      <td>2019-03-28 09:21:36</td>\n",
              "      <td>NaN</td>\n",
              "      <td>Coteaux Champenois Egly-Ouriet Ambonnay Rouge ...</td>\n",
              "      <td>Cet Ambonnay évoque les grands Pinots Noirs de...</td>\n",
              "      <td>publish</td>\n",
              "      <td>closed</td>\n",
              "      <td>closed</td>\n",
              "      <td>NaN</td>\n",
              "      <td>coteaux-champenois-egly-ouriet-ambonnay-rouge-...</td>\n",
              "      <td>2020-04-01 09:30:09</td>\n",
              "      <td>2020-04-01 07:30:09</td>\n",
              "      <td>NaN</td>\n",
              "      <td>0.0</td>\n",
              "      <td>https://www.wine-spirit.fr/?post_type=product&amp;...</td>\n",
              "      <td>0.0</td>\n",
              "      <td>product</td>\n",
              "      <td>NaN</td>\n",
              "      <td>0.0</td>\n",
              "    </tr>\n",
              "    <tr>\n",
              "      <th>309</th>\n",
              "      <td>4402</td>\n",
              "      <td>1</td>\n",
              "      <td>176.0</td>\n",
              "      <td>8</td>\n",
              "      <td>instock</td>\n",
              "      <td>3510</td>\n",
              "      <td>3510</td>\n",
              "      <td>0</td>\n",
              "      <td>0</td>\n",
              "      <td>0</td>\n",
              "      <td>0.0</td>\n",
              "      <td>13.0</td>\n",
              "      <td>taxable</td>\n",
              "      <td>NaN</td>\n",
              "      <td>2.0</td>\n",
              "      <td>2018-03-22 11:21:05</td>\n",
              "      <td>2018-03-22 10:21:05</td>\n",
              "      <td>NaN</td>\n",
              "      <td>Cognac Frapin VIP XO</td>\n",
              "      <td>La cuvée VIP XO à été enrichie d’eaux-de-vie t...</td>\n",
              "      <td>publish</td>\n",
              "      <td>closed</td>\n",
              "      <td>closed</td>\n",
              "      <td>NaN</td>\n",
              "      <td>cognac-frapin-vip-xo</td>\n",
              "      <td>2020-08-22 11:35:03</td>\n",
              "      <td>2020-08-22 09:35:03</td>\n",
              "      <td>NaN</td>\n",
              "      <td>0.0</td>\n",
              "      <td>https://www.wine-spirit.fr/?post_type=product&amp;...</td>\n",
              "      <td>0.0</td>\n",
              "      <td>product</td>\n",
              "      <td>NaN</td>\n",
              "      <td>0.0</td>\n",
              "    </tr>\n",
              "    <tr>\n",
              "      <th>644</th>\n",
              "      <td>5767</td>\n",
              "      <td>1</td>\n",
              "      <td>175.0</td>\n",
              "      <td>12</td>\n",
              "      <td>instock</td>\n",
              "      <td>15185</td>\n",
              "      <td>15185</td>\n",
              "      <td>0</td>\n",
              "      <td>0</td>\n",
              "      <td>0</td>\n",
              "      <td>0.0</td>\n",
              "      <td>0.0</td>\n",
              "      <td>taxable</td>\n",
              "      <td>NaN</td>\n",
              "      <td>2.0</td>\n",
              "      <td>2019-03-13 14:43:22</td>\n",
              "      <td>2019-03-13 13:43:22</td>\n",
              "      <td>NaN</td>\n",
              "      <td>Camille Giroud Clos de Vougeot 2016</td>\n",
              "      <td>&lt;div&gt;Ce vin provient de vignes âgées de 50 ans...</td>\n",
              "      <td>publish</td>\n",
              "      <td>closed</td>\n",
              "      <td>closed</td>\n",
              "      <td>NaN</td>\n",
              "      <td>camille-giroud-clos-de-vougeot-2016</td>\n",
              "      <td>2020-06-11 15:25:04</td>\n",
              "      <td>2020-06-11 13:25:04</td>\n",
              "      <td>NaN</td>\n",
              "      <td>0.0</td>\n",
              "      <td>https://www.wine-spirit.fr/?post_type=product&amp;...</td>\n",
              "      <td>0.0</td>\n",
              "      <td>product</td>\n",
              "      <td>NaN</td>\n",
              "      <td>0.0</td>\n",
              "    </tr>\n",
              "    <tr>\n",
              "      <th>...</th>\n",
              "      <td>...</td>\n",
              "      <td>...</td>\n",
              "      <td>...</td>\n",
              "      <td>...</td>\n",
              "      <td>...</td>\n",
              "      <td>...</td>\n",
              "      <td>...</td>\n",
              "      <td>...</td>\n",
              "      <td>...</td>\n",
              "      <td>...</td>\n",
              "      <td>...</td>\n",
              "      <td>...</td>\n",
              "      <td>...</td>\n",
              "      <td>...</td>\n",
              "      <td>...</td>\n",
              "      <td>...</td>\n",
              "      <td>...</td>\n",
              "      <td>...</td>\n",
              "      <td>...</td>\n",
              "      <td>...</td>\n",
              "      <td>...</td>\n",
              "      <td>...</td>\n",
              "      <td>...</td>\n",
              "      <td>...</td>\n",
              "      <td>...</td>\n",
              "      <td>...</td>\n",
              "      <td>...</td>\n",
              "      <td>...</td>\n",
              "      <td>...</td>\n",
              "      <td>...</td>\n",
              "      <td>...</td>\n",
              "      <td>...</td>\n",
              "      <td>...</td>\n",
              "      <td>...</td>\n",
              "    </tr>\n",
              "    <tr>\n",
              "      <th>189</th>\n",
              "      <td>4173</td>\n",
              "      <td>1</td>\n",
              "      <td>5.7</td>\n",
              "      <td>100</td>\n",
              "      <td>instock</td>\n",
              "      <td>16211</td>\n",
              "      <td>16211</td>\n",
              "      <td>0</td>\n",
              "      <td>0</td>\n",
              "      <td>0</td>\n",
              "      <td>0.0</td>\n",
              "      <td>13.0</td>\n",
              "      <td>taxable</td>\n",
              "      <td>NaN</td>\n",
              "      <td>2.0</td>\n",
              "      <td>2018-02-14 17:10:39</td>\n",
              "      <td>2018-02-14 16:10:39</td>\n",
              "      <td>NaN</td>\n",
              "      <td>Maurel Pays d'Oc Chenin-Colombard 2019</td>\n",
              "      <td>Ce vin d'une grande fraîcheur est élaboré à pa...</td>\n",
              "      <td>publish</td>\n",
              "      <td>closed</td>\n",
              "      <td>closed</td>\n",
              "      <td>NaN</td>\n",
              "      <td>maurel-pays-doc-chenin-colombard-2019</td>\n",
              "      <td>2020-08-07 17:35:03</td>\n",
              "      <td>2020-08-07 15:35:03</td>\n",
              "      <td>NaN</td>\n",
              "      <td>0.0</td>\n",
              "      <td>https://www.wine-spirit.fr/?post_type=product&amp;...</td>\n",
              "      <td>0.0</td>\n",
              "      <td>product</td>\n",
              "      <td>NaN</td>\n",
              "      <td>0.0</td>\n",
              "    </tr>\n",
              "    <tr>\n",
              "      <th>188</th>\n",
              "      <td>4172</td>\n",
              "      <td>1</td>\n",
              "      <td>5.7</td>\n",
              "      <td>167</td>\n",
              "      <td>instock</td>\n",
              "      <td>16210</td>\n",
              "      <td>16210</td>\n",
              "      <td>0</td>\n",
              "      <td>0</td>\n",
              "      <td>0</td>\n",
              "      <td>0.0</td>\n",
              "      <td>43.0</td>\n",
              "      <td>taxable</td>\n",
              "      <td>NaN</td>\n",
              "      <td>2.0</td>\n",
              "      <td>2018-02-14 16:54:33</td>\n",
              "      <td>2018-02-14 15:54:33</td>\n",
              "      <td>NaN</td>\n",
              "      <td>Maurel Pays d'Oc Chardonnay 2019</td>\n",
              "      <td>Un très joli petit chardonnay qui nous révèle ...</td>\n",
              "      <td>publish</td>\n",
              "      <td>closed</td>\n",
              "      <td>closed</td>\n",
              "      <td>NaN</td>\n",
              "      <td>maurel-pays-oc-chardonnay-2019</td>\n",
              "      <td>2020-08-27 15:35:02</td>\n",
              "      <td>2020-08-27 13:35:02</td>\n",
              "      <td>NaN</td>\n",
              "      <td>0.0</td>\n",
              "      <td>https://www.wine-spirit.fr/?post_type=product&amp;...</td>\n",
              "      <td>0.0</td>\n",
              "      <td>product</td>\n",
              "      <td>NaN</td>\n",
              "      <td>0.0</td>\n",
              "    </tr>\n",
              "    <tr>\n",
              "      <th>190</th>\n",
              "      <td>4174</td>\n",
              "      <td>1</td>\n",
              "      <td>5.7</td>\n",
              "      <td>94</td>\n",
              "      <td>instock</td>\n",
              "      <td>16209</td>\n",
              "      <td>16209</td>\n",
              "      <td>0</td>\n",
              "      <td>0</td>\n",
              "      <td>0</td>\n",
              "      <td>0.0</td>\n",
              "      <td>6.0</td>\n",
              "      <td>taxable</td>\n",
              "      <td>NaN</td>\n",
              "      <td>2.0</td>\n",
              "      <td>2018-02-14 17:15:31</td>\n",
              "      <td>2018-02-14 16:15:31</td>\n",
              "      <td>NaN</td>\n",
              "      <td>Maurel Cabardès Tradition 2017</td>\n",
              "      <td>Un joli nez aux arômes de fruits rouges, de ca...</td>\n",
              "      <td>publish</td>\n",
              "      <td>closed</td>\n",
              "      <td>closed</td>\n",
              "      <td>NaN</td>\n",
              "      <td>maurel-cabardes-tradition-2017</td>\n",
              "      <td>2020-08-05 18:05:03</td>\n",
              "      <td>2020-08-05 16:05:03</td>\n",
              "      <td>NaN</td>\n",
              "      <td>0.0</td>\n",
              "      <td>https://www.wine-spirit.fr/?post_type=product&amp;...</td>\n",
              "      <td>0.0</td>\n",
              "      <td>product</td>\n",
              "      <td>NaN</td>\n",
              "      <td>0.0</td>\n",
              "    </tr>\n",
              "    <tr>\n",
              "      <th>651</th>\n",
              "      <td>5777</td>\n",
              "      <td>1</td>\n",
              "      <td>5.7</td>\n",
              "      <td>132</td>\n",
              "      <td>instock</td>\n",
              "      <td>14338</td>\n",
              "      <td>14338</td>\n",
              "      <td>0</td>\n",
              "      <td>0</td>\n",
              "      <td>0</td>\n",
              "      <td>0.0</td>\n",
              "      <td>0.0</td>\n",
              "      <td>taxable</td>\n",
              "      <td>NaN</td>\n",
              "      <td>2.0</td>\n",
              "      <td>2019-03-15 10:13:30</td>\n",
              "      <td>2019-03-15 09:13:30</td>\n",
              "      <td>NaN</td>\n",
              "      <td>Maurel Pays d'Oc Cabernet-Sauvignon 2017</td>\n",
              "      <td>&lt;span style=\"float: none; background-color: tr...</td>\n",
              "      <td>publish</td>\n",
              "      <td>closed</td>\n",
              "      <td>closed</td>\n",
              "      <td>NaN</td>\n",
              "      <td>maurel-pays-d-oc-cabernet-sauvignon-2017</td>\n",
              "      <td>2020-03-11 09:30:06</td>\n",
              "      <td>2020-03-11 08:30:06</td>\n",
              "      <td>NaN</td>\n",
              "      <td>0.0</td>\n",
              "      <td>https://www.wine-spirit.fr/?post_type=product&amp;...</td>\n",
              "      <td>0.0</td>\n",
              "      <td>product</td>\n",
              "      <td>NaN</td>\n",
              "      <td>0.0</td>\n",
              "    </tr>\n",
              "    <tr>\n",
              "      <th>736</th>\n",
              "      <td>6129</td>\n",
              "      <td>1</td>\n",
              "      <td>5.2</td>\n",
              "      <td>30</td>\n",
              "      <td>instock</td>\n",
              "      <td>14570</td>\n",
              "      <td>14570</td>\n",
              "      <td>0</td>\n",
              "      <td>0</td>\n",
              "      <td>0</td>\n",
              "      <td>0.0</td>\n",
              "      <td>0.0</td>\n",
              "      <td>taxable</td>\n",
              "      <td>NaN</td>\n",
              "      <td>2.0</td>\n",
              "      <td>2019-06-28 18:01:06</td>\n",
              "      <td>2019-06-28 16:01:06</td>\n",
              "      <td>NaN</td>\n",
              "      <td>Moulin de Gassac IGP Pays d'Hérault Guilhem Bl...</td>\n",
              "      <td>Nez Séduisant et puissant. Bouquet de fleurs j...</td>\n",
              "      <td>publish</td>\n",
              "      <td>closed</td>\n",
              "      <td>closed</td>\n",
              "      <td>NaN</td>\n",
              "      <td>moulin-de-gassac-igp-pays-dherault-guilhem-bla...</td>\n",
              "      <td>2020-08-26 15:55:02</td>\n",
              "      <td>2020-08-26 13:55:02</td>\n",
              "      <td>NaN</td>\n",
              "      <td>0.0</td>\n",
              "      <td>https://www.wine-spirit.fr/?post_type=product&amp;...</td>\n",
              "      <td>0.0</td>\n",
              "      <td>product</td>\n",
              "      <td>NaN</td>\n",
              "      <td>0.0</td>\n",
              "    </tr>\n",
              "  </tbody>\n",
              "</table>\n",
              "<p>805 rows × 34 columns</p>\n",
              "</div>"
            ],
            "text/plain": [
              "     product_id  onsale_web  price  ...  post_type post_mime_type comment_count\n",
              "290        4352           1  225.0  ...    product            NaN           0.0\n",
              "517        5001           1  217.5  ...    product            NaN           0.0\n",
              "678        5892           1  191.3  ...    product            NaN           0.0\n",
              "309        4402           1  176.0  ...    product            NaN           0.0\n",
              "644        5767           1  175.0  ...    product            NaN           0.0\n",
              "..          ...         ...    ...  ...        ...            ...           ...\n",
              "189        4173           1    5.7  ...    product            NaN           0.0\n",
              "188        4172           1    5.7  ...    product            NaN           0.0\n",
              "190        4174           1    5.7  ...    product            NaN           0.0\n",
              "651        5777           1    5.7  ...    product            NaN           0.0\n",
              "736        6129           1    5.2  ...    product            NaN           0.0\n",
              "\n",
              "[805 rows x 34 columns]"
            ]
          },
          "metadata": {
            "tags": []
          },
          "execution_count": 151
        }
      ]
    },
    {
      "cell_type": "markdown",
      "metadata": {
        "id": "j9YSEro9iOJL"
      },
      "source": [
        "# Year Processing"
      ]
    },
    {
      "cell_type": "markdown",
      "metadata": {
        "id": "zzHDIB0GkJsi"
      },
      "source": [
        "does not work yet "
      ]
    },
    {
      "cell_type": "code",
      "metadata": {
        "id": "bUKk-SXSdUN1"
      },
      "source": [
        "df_full[\"year\"] = df_full[\"post_title\"].str[-4:]"
      ],
      "execution_count": 152,
      "outputs": []
    },
    {
      "cell_type": "code",
      "metadata": {
        "id": "5O9TWNsqNFd3",
        "colab": {
          "base_uri": "https://localhost:8080/"
        },
        "outputId": "e1c6ef85-7fb0-4a70-971f-d31d83f3877a"
      },
      "source": [
        "for i in range (df_full['year'].shape[0]):\n",
        "  print(df_full['year'][i])"
      ],
      "execution_count": 153,
      "outputs": [
        {
          "output_type": "stream",
          "text": [
            "2018\n",
            "2017\n",
            "2018\n",
            "2018\n",
            "2017\n",
            "2018\n",
            "2018\n",
            "2017\n",
            "2017\n",
            "2018\n",
            "2017\n",
            "2018\n",
            "2018\n",
            "2018\n",
            "2019\n",
            "2018\n",
            "2019\n",
            "2012\n",
            "2018\n",
            "nan\n",
            "nan\n",
            "nan\n",
            "nan\n",
            "nan\n",
            "nan\n",
            "nan\n",
            "nan\n",
            "nan\n",
            "nan\n",
            "nan\n",
            "nan\n",
            "nan\n",
            "nan\n",
            "nan\n",
            "nan\n",
            "nan\n",
            "nan\n",
            "nan\n",
            "nan\n",
            "nan\n",
            "nan\n",
            "nan\n",
            "nan\n",
            "nan\n",
            "nan\n",
            "nan\n",
            "nan\n",
            "nan\n",
            "nan\n",
            "nan\n",
            "nan\n",
            "nan\n",
            "nan\n",
            "nan\n",
            "nan\n",
            "nan\n",
            "nan\n",
            "nan\n",
            "nan\n",
            "nan\n",
            "nan\n",
            "nan\n",
            "nan\n",
            "nan\n",
            "nan\n",
            "nan\n",
            "nan\n",
            "nan\n",
            "nan\n",
            "nan\n",
            "nan\n",
            "nan\n",
            "nan\n",
            "nan\n",
            "nan\n",
            "nan\n",
            "nan\n",
            "nan\n",
            "nan\n",
            "nan\n",
            "nan\n",
            "nan\n",
            "nan\n",
            "nan\n",
            "nan\n",
            "nan\n",
            "nan\n",
            "nan\n",
            "nan\n",
            "nan\n",
            "nan\n",
            "nan\n",
            "nan\n",
            "nan\n",
            "nan\n",
            "nan\n",
            "nan\n",
            "nan\n",
            "nan\n",
            "nan\n",
            "nan\n",
            "nan\n",
            "nan\n",
            "nan\n",
            "nan\n",
            "nan\n",
            "nan\n",
            "nan\n",
            "nan\n",
            "nan\n",
            "2018\n",
            "2019\n",
            "2019\n",
            "2019\n",
            "2017\n",
            "2018\n",
            "2017\n",
            "2017\n",
            "2016\n",
            "2016\n",
            "2017\n",
            "2019\n",
            "2012\n",
            "2018\n",
            "2015\n",
            "2015\n",
            "2015\n",
            " 201\n",
            "2015\n",
            "2016\n",
            "2016\n",
            "2015\n",
            "2013\n",
            "2016\n",
            "2019\n",
            "2017\n",
            "2017\n",
            "2019\n",
            "2019\n",
            "2017\n",
            "2018\n",
            "2015\n",
            "2018\n",
            "2016\n",
            "2018\n",
            "2016\n",
            "2016\n",
            "2017\n",
            "2016\n",
            "2018\n",
            "2019\n",
            "2018\n",
            "2016\n",
            "2017\n",
            "2017\n",
            "2017\n",
            "2012\n",
            "2015\n",
            "2017\n",
            "2013\n",
            "erve\n",
            "2006\n",
            "Rosé\n",
            "erve\n",
            "2012\n",
            "Rosé\n",
            "2009\n",
            "2010\n",
            "2016\n",
            "2016\n",
            "2015\n",
            "2017\n",
            "2016\n",
            "2016\n",
            "2017\n",
            "2018\n",
            "2017\n",
            "2017\n",
            "2017\n",
            "2016\n",
            "2018\n",
            "2015\n",
            "2017\n",
            "2017\n",
            "2017\n",
            "2018\n",
            "2018\n",
            "2017\n",
            "2019\n",
            "2019\n",
            "2017\n",
            "2018\n",
            "2018\n",
            "2019\n",
            "2018\n",
            "2018\n",
            "2019\n",
            "2017\n",
            "2016\n",
            "2018\n",
            "2019\n",
            "2019\n",
            "2019\n",
            "2019\n",
            "2017\n",
            "2019\n",
            "2017\n",
            "2015\n",
            "2019\n",
            "2019\n",
            "2019\n",
            "2018\n",
            "2019\n",
            "2018\n",
            "2017\n",
            "2016\n",
            "2018\n",
            "2019\n",
            "2017\n",
            "2017\n",
            "2017\n",
            "2017\n",
            "2017\n",
            "2018\n",
            "2018\n",
            "2014\n",
            "2018\n",
            "2018\n",
            "2016\n",
            "2019\n",
            "2017\n",
            "2019\n",
            "2018\n",
            "2015\n",
            "2018\n",
            "2018\n",
            "2019\n",
            "2015\n",
            "2019\n",
            "2017\n",
            "2019\n",
            "2018\n",
            "2018\n",
            "2019\n",
            "2017\n",
            "2017\n",
            "2018\n",
            "2017\n",
            "2008\n",
            "2015\n",
            "2017\n",
            "2015\n",
            "2017\n",
            "2017\n",
            "2018\n",
            "2018\n",
            "2018\n",
            "2018\n",
            "2018\n",
            "2019\n",
            "2019\n",
            "2019\n",
            "2018\n",
            "2016\n",
            "2016\n",
            "rale\n",
            "2017\n",
            "2015\n",
            "2015\n",
            "2016\n",
            "2019\n",
            "2017\n",
            "2017\n",
            "2017\n",
            "2014\n",
            "2017\n",
            "2019\n",
            "2018\n",
            "2018\n",
            "2017\n",
            "2019\n",
            "2015\n",
            "2018\n",
            "2018\n",
            "2018\n",
            "ancs\n",
            "Noir\n",
            "2007\n",
            "tion\n",
            "V.P.\n",
            "2008\n",
            "Rosé\n",
            "oirs\n",
            "igny\n",
            "tude\n",
            "2008\n",
            "2011\n",
            "Hive\n",
            "mney\n",
            "King\n",
            "urst\n",
            "hest\n",
            "lcho\n",
            " ans\n",
            "ngth\n",
            "ngth\n",
            "ngth\n",
            "1270\n",
            "VSOP\n",
            "P XO\n",
            "t XO\n",
            " 1/2\n",
            "'Age\n",
            "lend\n",
            "2017\n",
            "2018\n",
            "2017\n",
            "2015\n",
            "2014\n",
            "2017\n",
            "2016\n",
            "2017\n",
            "2017\n",
            "2018\n",
            "2017\n",
            "2017\n",
            "2016\n",
            "2016\n",
            "2017\n",
            "2017\n",
            "2017\n",
            "2018\n",
            "2017\n",
            "2017\n",
            "2017\n",
            "2017\n",
            "2018\n",
            "2015\n",
            "2011\n",
            "2014\n",
            "2012\n",
            "2018\n",
            "2017\n",
            "reau\n",
            "vage\n",
            "ière\n",
            "scat\n",
            "aise\n",
            "oing\n",
            "Houx\n",
            "ière\n",
            "ière\n",
            "iner\n",
            "ière\n",
            "sace\n",
            "2017\n",
            "2017\n",
            "2018\n",
            "2018\n",
            "2018\n",
            "2014\n",
            "2016\n",
            "2016\n",
            "2016\n",
            "2013\n",
            "2014\n",
            "2016\n",
            "2018\n",
            "2016\n",
            "2018\n",
            "2015\n",
            "2015\n",
            "2018\n",
            "2018\n",
            "2015\n",
            "2017\n",
            "2017\n",
            "2018\n",
            "2015\n",
            "2016\n",
            "2016\n",
            "2016\n",
            "2016\n",
            "2018\n",
            "2018\n",
            "2017\n",
            "2019\n",
            "2015\n",
            "2018\n",
            "2014\n",
            "denc\n",
            "2016\n",
            "2017\n",
            "2017\n",
            "2016\n",
            "2018\n",
            "2017\n",
            "2016\n",
            "2011\n",
            "2018\n",
            "Brut\n",
            "2015\n",
            "2017\n",
            "2017\n",
            "2017\n",
            "2017\n",
            "2017\n",
            "2019\n",
            "2018\n",
            "2018\n",
            "2017\n",
            "2017\n",
            "2017\n",
            "2018\n",
            "2017\n",
            "ancs\n",
            "tige\n",
            "Rosé\n",
            "2018\n",
            "2018\n",
            "2016\n",
            "2016\n",
            "2017\n",
            "2016\n",
            "2015\n",
            "2016\n",
            "2017\n",
            "2019\n",
            "2017\n",
            "2016\n",
            "2018\n",
            "2017\n",
            "2019\n",
            "nite\n",
            "nite\n",
            "2017\n",
            "2015\n",
            "2017\n",
            "2018\n",
            "2018\n",
            "2018\n",
            "2018\n",
            "2018\n",
            "2016\n",
            "2018\n",
            "2017\n",
            "2014\n",
            "Rosé\n",
            "2008\n",
            "2017\n",
            "2019\n",
            "2019\n",
            "2017\n",
            "2018\n",
            "2019\n",
            "2018\n",
            "2019\n",
            "2019\n",
            "2019\n",
            "2017\n",
            "2018\n",
            "2018\n",
            "2018\n",
            "2018\n",
            "2018\n",
            "2018\n",
            "2018\n",
            "2018\n",
            "2018\n",
            "2017\n",
            "2015\n",
            "2017\n",
            "2016\n",
            "2015\n",
            "2016\n",
            "2018\n",
            "2017\n",
            "2018\n",
            "2015\n",
            "2018\n",
            "Maio\n",
            "2016\n",
            "2017\n",
            "2018\n",
            "2018\n",
            "2017\n",
            "2017\n",
            "2018\n",
            "2018\n",
            "2016\n",
            "2017\n",
            "2018\n",
            "2017\n",
            "2011\n",
            "2018\n",
            "2017\n",
            "2018\n",
            "2019\n",
            "2016\n",
            "2018\n",
            "2017\n",
            " 25€\n",
            "2018\n",
            "2016\n",
            "2018\n",
            "2019\n",
            "2011\n",
            "2017\n",
            "2013\n",
            "2017\n",
            "2017\n",
            "2016\n",
            "2014\n",
            "2008\n",
            "2002\n",
            "2008\n",
            "2017\n",
            "2014\n",
            "2016\n",
            "2017\n",
            "2017\n",
            "2017\n",
            "2014\n",
            "2013\n",
            "2017\n",
            "2017\n",
            "2016\n",
            "ancs\n",
            "2012\n",
            "2012\n",
            " Cru\n",
            " Cru\n",
            "2016\n",
            "2017\n",
            "2017\n",
            "2017\n",
            "2017\n",
            "2017\n",
            "2017\n",
            "2018\n",
            "2017\n",
            "2017\n",
            "2018\n",
            "2016\n",
            "2015\n",
            "2012\n",
            "2012\n",
            "2010\n",
            "2011\n",
            "2017\n",
            "2016\n",
            "2017\n",
            "2013\n",
            "2013\n",
            "2018\n",
            "2016\n",
            "2017\n",
            "2015\n",
            "2018\n",
            "2017\n",
            "2007\n",
            "2013\n",
            "2018\n",
            "2019\n",
            "2019\n",
            "2017\n",
            "2018\n",
            "2017\n",
            "2018\n",
            "2018\n",
            "2016\n",
            "2015\n",
            "2017\n",
            "2019\n",
            "2014\n",
            "2017\n",
            "2017\n",
            "2017\n",
            "2017\n",
            "2018\n",
            "2016\n",
            "2016\n",
            "2016\n",
            "2018\n",
            "2017\n",
            "2017\n",
            "2017\n",
            "2017\n",
            "2016\n",
            "2017\n",
            "2017\n",
            "2017\n",
            "2017\n",
            "2017\n",
            "2018\n",
            "2017\n",
            "2008\n",
            "2016\n",
            "2018\n",
            "2018\n",
            "2017\n",
            "2018\n",
            " 1/2\n",
            "2016\n",
            "2014\n",
            "2016\n",
            "2016\n",
            "2016\n",
            "2018\n",
            "2018\n",
            "2013\n",
            "ture\n",
            "2013\n",
            "2012\n",
            "2018\n",
            "2016\n",
            "2019\n",
            "2018\n",
            "2016\n",
            "2016\n",
            "2012\n",
            "2015\n",
            "2014\n",
            "2018\n",
            "2015\n",
            "2016\n",
            "2017\n",
            "2015\n",
            "2016\n",
            "2018\n",
            "2018\n",
            "2016\n",
            "2016\n",
            "2016\n",
            "2015\n",
            "2014\n",
            "2015\n",
            "2018\n",
            "2019\n",
            "f 3L\n",
            "50cl\n",
            "10cl\n",
            "2018\n",
            "2017\n",
            "2016\n",
            "2016\n",
            "2016\n",
            "2017\n",
            "2016\n",
            "2016\n",
            "2017\n",
            "2017\n",
            "2018\n",
            "2019\n",
            "2016\n",
            "2016\n",
            "2016\n",
            "2016\n",
            "2017\n",
            "2012\n",
            "2014\n",
            "2015\n",
            "2016\n",
            "2014\n",
            "2016\n",
            "2016\n",
            "2017\n",
            "2017\n",
            "2017\n",
            "2012\n",
            "2015\n",
            "2008\n",
            "2012\n",
            "2017\n",
            "2017\n",
            "2017\n",
            "2018\n",
            "2018\n",
            "2016\n",
            "2016\n",
            "2017\n",
            "2015\n",
            "2015\n",
            "2016\n",
            "2016\n",
            "2017\n",
            "2018\n",
            "2009\n",
            "2016\n",
            "2013\n",
            "isky\n",
            "inal\n",
            "iced\n",
            "lyde\n",
            "hain\n",
            "chie\n",
            "2017\n",
            "2017\n",
            "2019\n",
            " VFC\n",
            "2016\n",
            "2017\n",
            "2018\n",
            "2016\n",
            "2015\n",
            "2017\n",
            "2018\n",
            "2016\n",
            "2015\n",
            "2012\n",
            "2013\n",
            "2014\n",
            "2016\n",
            "2015\n",
            "2015\n",
            "2019\n",
            "2019\n",
            "2017\n",
            "2017\n",
            "2019\n",
            "2019\n",
            "2018\n",
            "2017\n",
            "2018\n",
            "2017\n",
            "2016\n",
            "2017\n",
            "2015\n",
            "2017\n",
            "2011\n",
            "2011\n",
            "2016\n",
            "2010\n",
            "2007\n",
            "2017\n",
            "2017\n",
            "2017\n",
            "2017\n",
            "2016\n",
            "2015\n",
            "2016\n",
            "2019\n",
            "2019\n",
            "2016\n",
            "2015\n",
            "2016\n",
            "2013\n",
            "2014\n",
            "2016\n",
            "2017\n",
            "2016\n",
            "2017\n",
            "2017\n",
            "2017\n",
            "2017\n",
            "2019\n",
            "2003\n",
            "2018\n",
            "2017\n",
            "2015\n",
            "2018\n",
            "2018\n",
            "2014\n",
            "2017\n",
            "2016\n",
            "2015\n",
            "2015\n",
            "2017\n",
            "2017\n",
            "2016\n",
            "2018\n",
            "2018\n",
            "2018\n",
            "2018\n",
            "2017\n",
            "2018\n",
            "2017\n",
            "2005\n",
            "2018\n",
            "2018\n",
            "2018\n",
            "2017\n",
            "2016\n",
            "2017\n",
            "2016\n",
            "2016\n",
            "2016\n",
            "2017\n",
            "2017\n",
            "2017\n",
            "2013\n",
            "2016\n",
            "2017\n",
            "2015\n",
            "2015\n",
            "2011\n",
            "2017\n",
            "2015\n",
            "2016\n",
            "2016\n",
            "2015\n",
            "2018\n",
            "2018\n",
            "2007\n",
            "2019\n"
          ],
          "name": "stdout"
        }
      ]
    },
    {
      "cell_type": "code",
      "metadata": {
        "id": "0flqxnKLFK_E",
        "colab": {
          "base_uri": "https://localhost:8080/",
          "height": 609
        },
        "outputId": "a21c16e6-a36c-4e16-d40e-0b5cae65f8be"
      },
      "source": [
        "#for i in range (df_full['year'].shape[0]):\n",
        "  #if (len(df_full['year'][i])!= 4) \n",
        "df_full_bis = df_full\n",
        "#df_full_bis = df_full_bis.drop(df_full_bis[type(df_full_bis.year)!=str ].index)\n",
        "df_full_bis = df_full_bis.drop(df_full_bis[len(df_full_bis.year)!=4 ].index)\n"
      ],
      "execution_count": 154,
      "outputs": [
        {
          "output_type": "error",
          "ename": "KeyError",
          "evalue": "ignored",
          "traceback": [
            "\u001b[0;31m---------------------------------------------------------------------------\u001b[0m",
            "\u001b[0;31mKeyError\u001b[0m                                  Traceback (most recent call last)",
            "\u001b[0;32m/usr/local/lib/python3.7/dist-packages/pandas/core/indexes/base.py\u001b[0m in \u001b[0;36mget_loc\u001b[0;34m(self, key, method, tolerance)\u001b[0m\n\u001b[1;32m   2897\u001b[0m             \u001b[0;32mtry\u001b[0m\u001b[0;34m:\u001b[0m\u001b[0;34m\u001b[0m\u001b[0;34m\u001b[0m\u001b[0m\n\u001b[0;32m-> 2898\u001b[0;31m                 \u001b[0;32mreturn\u001b[0m \u001b[0mself\u001b[0m\u001b[0;34m.\u001b[0m\u001b[0m_engine\u001b[0m\u001b[0;34m.\u001b[0m\u001b[0mget_loc\u001b[0m\u001b[0;34m(\u001b[0m\u001b[0mcasted_key\u001b[0m\u001b[0;34m)\u001b[0m\u001b[0;34m\u001b[0m\u001b[0;34m\u001b[0m\u001b[0m\n\u001b[0m\u001b[1;32m   2899\u001b[0m             \u001b[0;32mexcept\u001b[0m \u001b[0mKeyError\u001b[0m \u001b[0;32mas\u001b[0m \u001b[0merr\u001b[0m\u001b[0;34m:\u001b[0m\u001b[0;34m\u001b[0m\u001b[0;34m\u001b[0m\u001b[0m\n",
            "\u001b[0;32mpandas/_libs/index.pyx\u001b[0m in \u001b[0;36mpandas._libs.index.IndexEngine.get_loc\u001b[0;34m()\u001b[0m\n",
            "\u001b[0;32mpandas/_libs/index.pyx\u001b[0m in \u001b[0;36mpandas._libs.index.IndexEngine.get_loc\u001b[0;34m()\u001b[0m\n",
            "\u001b[0;32mpandas/_libs/hashtable_class_helper.pxi\u001b[0m in \u001b[0;36mpandas._libs.hashtable.PyObjectHashTable.get_item\u001b[0;34m()\u001b[0m\n",
            "\u001b[0;32mpandas/_libs/hashtable_class_helper.pxi\u001b[0m in \u001b[0;36mpandas._libs.hashtable.PyObjectHashTable.get_item\u001b[0;34m()\u001b[0m\n",
            "\u001b[0;31mKeyError\u001b[0m: True",
            "\nThe above exception was the direct cause of the following exception:\n",
            "\u001b[0;31mKeyError\u001b[0m                                  Traceback (most recent call last)",
            "\u001b[0;32m<ipython-input-154-8c5c79001214>\u001b[0m in \u001b[0;36m<module>\u001b[0;34m()\u001b[0m\n\u001b[1;32m      3\u001b[0m \u001b[0mdf_full_bis\u001b[0m \u001b[0;34m=\u001b[0m \u001b[0mdf_full\u001b[0m\u001b[0;34m\u001b[0m\u001b[0;34m\u001b[0m\u001b[0m\n\u001b[1;32m      4\u001b[0m \u001b[0;31m#df_full_bis = df_full_bis.drop(df_full_bis[type(df_full_bis.year)!=str ].index)\u001b[0m\u001b[0;34m\u001b[0m\u001b[0;34m\u001b[0m\u001b[0;34m\u001b[0m\u001b[0m\n\u001b[0;32m----> 5\u001b[0;31m \u001b[0mdf_full_bis\u001b[0m \u001b[0;34m=\u001b[0m \u001b[0mdf_full_bis\u001b[0m\u001b[0;34m.\u001b[0m\u001b[0mdrop\u001b[0m\u001b[0;34m(\u001b[0m\u001b[0mdf_full_bis\u001b[0m\u001b[0;34m[\u001b[0m\u001b[0mlen\u001b[0m\u001b[0;34m(\u001b[0m\u001b[0mdf_full_bis\u001b[0m\u001b[0;34m.\u001b[0m\u001b[0myear\u001b[0m\u001b[0;34m)\u001b[0m\u001b[0;34m!=\u001b[0m\u001b[0;36m4\u001b[0m \u001b[0;34m]\u001b[0m\u001b[0;34m.\u001b[0m\u001b[0mindex\u001b[0m\u001b[0;34m)\u001b[0m\u001b[0;34m\u001b[0m\u001b[0;34m\u001b[0m\u001b[0m\n\u001b[0m",
            "\u001b[0;32m/usr/local/lib/python3.7/dist-packages/pandas/core/frame.py\u001b[0m in \u001b[0;36m__getitem__\u001b[0;34m(self, key)\u001b[0m\n\u001b[1;32m   2904\u001b[0m             \u001b[0;32mif\u001b[0m \u001b[0mself\u001b[0m\u001b[0;34m.\u001b[0m\u001b[0mcolumns\u001b[0m\u001b[0;34m.\u001b[0m\u001b[0mnlevels\u001b[0m \u001b[0;34m>\u001b[0m \u001b[0;36m1\u001b[0m\u001b[0;34m:\u001b[0m\u001b[0;34m\u001b[0m\u001b[0;34m\u001b[0m\u001b[0m\n\u001b[1;32m   2905\u001b[0m                 \u001b[0;32mreturn\u001b[0m \u001b[0mself\u001b[0m\u001b[0;34m.\u001b[0m\u001b[0m_getitem_multilevel\u001b[0m\u001b[0;34m(\u001b[0m\u001b[0mkey\u001b[0m\u001b[0;34m)\u001b[0m\u001b[0;34m\u001b[0m\u001b[0;34m\u001b[0m\u001b[0m\n\u001b[0;32m-> 2906\u001b[0;31m             \u001b[0mindexer\u001b[0m \u001b[0;34m=\u001b[0m \u001b[0mself\u001b[0m\u001b[0;34m.\u001b[0m\u001b[0mcolumns\u001b[0m\u001b[0;34m.\u001b[0m\u001b[0mget_loc\u001b[0m\u001b[0;34m(\u001b[0m\u001b[0mkey\u001b[0m\u001b[0;34m)\u001b[0m\u001b[0;34m\u001b[0m\u001b[0;34m\u001b[0m\u001b[0m\n\u001b[0m\u001b[1;32m   2907\u001b[0m             \u001b[0;32mif\u001b[0m \u001b[0mis_integer\u001b[0m\u001b[0;34m(\u001b[0m\u001b[0mindexer\u001b[0m\u001b[0;34m)\u001b[0m\u001b[0;34m:\u001b[0m\u001b[0;34m\u001b[0m\u001b[0;34m\u001b[0m\u001b[0m\n\u001b[1;32m   2908\u001b[0m                 \u001b[0mindexer\u001b[0m \u001b[0;34m=\u001b[0m \u001b[0;34m[\u001b[0m\u001b[0mindexer\u001b[0m\u001b[0;34m]\u001b[0m\u001b[0;34m\u001b[0m\u001b[0;34m\u001b[0m\u001b[0m\n",
            "\u001b[0;32m/usr/local/lib/python3.7/dist-packages/pandas/core/indexes/base.py\u001b[0m in \u001b[0;36mget_loc\u001b[0;34m(self, key, method, tolerance)\u001b[0m\n\u001b[1;32m   2898\u001b[0m                 \u001b[0;32mreturn\u001b[0m \u001b[0mself\u001b[0m\u001b[0;34m.\u001b[0m\u001b[0m_engine\u001b[0m\u001b[0;34m.\u001b[0m\u001b[0mget_loc\u001b[0m\u001b[0;34m(\u001b[0m\u001b[0mcasted_key\u001b[0m\u001b[0;34m)\u001b[0m\u001b[0;34m\u001b[0m\u001b[0;34m\u001b[0m\u001b[0m\n\u001b[1;32m   2899\u001b[0m             \u001b[0;32mexcept\u001b[0m \u001b[0mKeyError\u001b[0m \u001b[0;32mas\u001b[0m \u001b[0merr\u001b[0m\u001b[0;34m:\u001b[0m\u001b[0;34m\u001b[0m\u001b[0;34m\u001b[0m\u001b[0m\n\u001b[0;32m-> 2900\u001b[0;31m                 \u001b[0;32mraise\u001b[0m \u001b[0mKeyError\u001b[0m\u001b[0;34m(\u001b[0m\u001b[0mkey\u001b[0m\u001b[0;34m)\u001b[0m \u001b[0;32mfrom\u001b[0m \u001b[0merr\u001b[0m\u001b[0;34m\u001b[0m\u001b[0;34m\u001b[0m\u001b[0m\n\u001b[0m\u001b[1;32m   2901\u001b[0m \u001b[0;34m\u001b[0m\u001b[0m\n\u001b[1;32m   2902\u001b[0m         \u001b[0;32mif\u001b[0m \u001b[0mtolerance\u001b[0m \u001b[0;32mis\u001b[0m \u001b[0;32mnot\u001b[0m \u001b[0;32mNone\u001b[0m\u001b[0;34m:\u001b[0m\u001b[0;34m\u001b[0m\u001b[0;34m\u001b[0m\u001b[0m\n",
            "\u001b[0;31mKeyError\u001b[0m: True"
          ]
        }
      ]
    },
    {
      "cell_type": "code",
      "metadata": {
        "id": "pP5WZhz0OClZ"
      },
      "source": [
        "rows_to_drop = []\n",
        "for i in range (df_full['year'].shape[0]):\n",
        "  if (len(df_full['year'][i])!= 4):\n",
        "    rows_to_drop.append(i)\n"
      ],
      "execution_count": null,
      "outputs": []
    },
    {
      "cell_type": "code",
      "metadata": {
        "id": "BWUbVawIO8c-"
      },
      "source": [
        "rows_to_drop"
      ],
      "execution_count": null,
      "outputs": []
    },
    {
      "cell_type": "code",
      "metadata": {
        "id": "bBSXxuUmOs6B"
      },
      "source": [
        "df_full['year'] = df_full['year'].to_string()"
      ],
      "execution_count": null,
      "outputs": []
    },
    {
      "cell_type": "code",
      "metadata": {
        "id": "UVngrikiNoZB"
      },
      "source": [
        "df_full['year'] = pd.to_datetime(df_full['year'])"
      ],
      "execution_count": null,
      "outputs": []
    },
    {
      "cell_type": "code",
      "metadata": {
        "id": "8AtHaKdBPadx"
      },
      "source": [
        "# no_na_year_stuff =  df_pca.drop(df_pca[df_pca.year == 'nan' ].index)\n",
        "#print(no_na_year_stuff.shape)\n",
        "#no_na_year_stuff['year'] = no_na_year_stuff['year'].astype(int)\n",
        "#print(no_na_year_stuff.shape)"
      ],
      "execution_count": null,
      "outputs": []
    },
    {
      "cell_type": "code",
      "metadata": {
        "id": "u7ez5q45P5cD"
      },
      "source": [
        "for i in df_full[\"year\"]:\n",
        "  print (type(i))\n",
        "print(df_full[\"year\"][25])\n",
        "import re\n",
        "lalala = df_full[\"year\"].*([1-3][0-9]{3})"
      ],
      "execution_count": null,
      "outputs": []
    },
    {
      "cell_type": "markdown",
      "metadata": {
        "id": "SNdJEEiCgwVJ"
      },
      "source": [
        "# get turnover"
      ]
    },
    {
      "cell_type": "code",
      "metadata": {
        "colab": {
          "base_uri": "https://localhost:8080/"
        },
        "id": "Nt8d5_4vecWR",
        "outputId": "ad193d88-7d0e-4871-c82c-b881343bbc45"
      },
      "source": [
        "df_full['sales_amount'] = df_full['price']*df_full['total_sales']\n",
        "turnover = df_full['sales_amount'].sum()\n",
        "print('the turnover is : ', turnover)"
      ],
      "execution_count": 155,
      "outputs": [
        {
          "output_type": "stream",
          "text": [
            "the turnover is :  70568.6\n"
          ],
          "name": "stdout"
        }
      ]
    },
    {
      "cell_type": "code",
      "metadata": {
        "id": "kjPbA5-c_XJl",
        "colab": {
          "base_uri": "https://localhost:8080/"
        },
        "outputId": "3293be3a-86ce-441f-f9ec-6f4105387be6"
      },
      "source": [
        "df_full.columns"
      ],
      "execution_count": 156,
      "outputs": [
        {
          "output_type": "execute_result",
          "data": {
            "text/plain": [
              "Index(['product_id', 'onsale_web', 'price', 'stock_quantity', 'stock_status',\n",
              "       'id_web', 'sku', 'virtual', 'downloadable', 'rating_count',\n",
              "       'average_rating', 'total_sales', 'tax_status', 'tax_class',\n",
              "       'post_author', 'post_date', 'post_date_gmt', 'post_content',\n",
              "       'post_title', 'post_excerpt', 'post_status', 'comment_status',\n",
              "       'ping_status', 'post_password', 'post_name', 'post_modified',\n",
              "       'post_modified_gmt', 'post_content_filtered', 'post_parent', 'guid',\n",
              "       'menu_order', 'post_type', 'post_mime_type', 'comment_count', 'year',\n",
              "       'sales_amount'],\n",
              "      dtype='object')"
            ]
          },
          "metadata": {
            "tags": []
          },
          "execution_count": 156
        }
      ]
    },
    {
      "cell_type": "code",
      "metadata": {
        "id": "6U1STDOTLXnJ"
      },
      "source": [
        "df_fix_outliers = df_full[['price','total_sales']]"
      ],
      "execution_count": 157,
      "outputs": []
    },
    {
      "cell_type": "markdown",
      "metadata": {
        "id": "wet56S3pUuN0"
      },
      "source": [
        "# Outliers Graphical Approach"
      ]
    },
    {
      "cell_type": "markdown",
      "metadata": {
        "id": "WMfLCHS1kjHZ"
      },
      "source": [
        "We do see some speciales values for the price repartition (price > 100  euros and prices around 5 euros)\n",
        "they might be considered as outliers\n",
        "but here it's about wine price and lower prices around 5 euros is usual\n",
        "same, prices between 100 and 1000 euros is also usual for some special bottles\n",
        "So there is no true outliers but for some kind of processing we could have to exclude thoses marginal values\n",
        "\n",
        "\n"
      ]
    },
    {
      "cell_type": "code",
      "metadata": {
        "id": "zNV3aMK0SFFK",
        "colab": {
          "base_uri": "https://localhost:8080/",
          "height": 0
        },
        "outputId": "9fc0f54c-d3c2-4955-fd47-0c4f3d03aae8"
      },
      "source": [
        "sns.displot(df_fix_outliers, x='price',kde=True)"
      ],
      "execution_count": 158,
      "outputs": [
        {
          "output_type": "execute_result",
          "data": {
            "text/plain": [
              "<seaborn.axisgrid.FacetGrid at 0x7f40101f1750>"
            ]
          },
          "metadata": {
            "tags": []
          },
          "execution_count": 158
        },
        {
          "output_type": "display_data",
          "data": {
            "image/png": "[encoded data removed]",
            "text/plain": [
              "<Figure size 360x360 with 1 Axes>"
            ]
          },
          "metadata": {
            "tags": []
          }
        }
      ]
    },
    {
      "cell_type": "code",
      "metadata": {
        "id": "dySZMk4xUNsJ",
        "colab": {
          "base_uri": "https://localhost:8080/",
          "height": 0
        },
        "outputId": "1764ea80-eb1c-454c-fd34-75b942881e18"
      },
      "source": [
        "sns.boxplot(x=df_full['price'])"
      ],
      "execution_count": 159,
      "outputs": [
        {
          "output_type": "execute_result",
          "data": {
            "text/plain": [
              "<matplotlib.axes._subplots.AxesSubplot at 0x7f4011f4a3d0>"
            ]
          },
          "metadata": {
            "tags": []
          },
          "execution_count": 159
        },
        {
          "output_type": "display_data",
          "data": {
            "image/png": "[encoded data removed]",
            "text/plain": [
              "<Figure size 864x504 with 1 Axes>"
            ]
          },
          "metadata": {
            "tags": []
          }
        }
      ]
    },
    {
      "cell_type": "code",
      "metadata": {
        "id": "qv5CzwxHZy72",
        "colab": {
          "base_uri": "https://localhost:8080/",
          "height": 0
        },
        "outputId": "ef5b0641-08eb-4d54-ff53-4ef6889e2b32"
      },
      "source": [
        " sns.scatterplot(data=df_fix_outliers, x='price', y='total_sales')"
      ],
      "execution_count": 160,
      "outputs": [
        {
          "output_type": "execute_result",
          "data": {
            "text/plain": [
              "<matplotlib.axes._subplots.AxesSubplot at 0x7f4011f4e750>"
            ]
          },
          "metadata": {
            "tags": []
          },
          "execution_count": 160
        },
        {
          "output_type": "display_data",
          "data": {
            "image/png": "[encoded data removed]",
            "text/plain": [
              "<Figure size 864x504 with 1 Axes>"
            ]
          },
          "metadata": {
            "tags": []
          }
        }
      ]
    },
    {
      "cell_type": "markdown",
      "metadata": {
        "id": "eQYGMFGIajDW"
      },
      "source": [
        "# Outliers Statistic approach"
      ]
    },
    {
      "cell_type": "markdown",
      "metadata": {
        "id": "Hls71Ve8reI6"
      },
      "source": [
        "## Interquartile Range to Detect Outliers"
      ]
    },
    {
      "cell_type": "code",
      "metadata": {
        "id": "RTIhRbzmYkF1",
        "colab": {
          "base_uri": "https://localhost:8080/"
        },
        "outputId": "a3d07e9d-141f-465d-cc9b-044efd52e704"
      },
      "source": [
        "# Compute Quartiles :\n",
        "Q1 = np.percentile(df_full['price'], 25, interpolation = 'midpoint')\n",
        "Q2 = np.percentile(df_full['price'], 50, interpolation = 'midpoint')\n",
        "Q3 = np.percentile(df_full['price'], 75, interpolation = 'midpoint')\n",
        "# Interquaritle range (IQR)\n",
        "IQR = Q3 - Q1\n",
        "print('we got \\n Q1 = {}\\n Q2 = {} \\n Q3 = {}\\n IQR = {}'.format(Q1,Q2,Q3,IQR))"
      ],
      "execution_count": 161,
      "outputs": [
        {
          "output_type": "stream",
          "text": [
            "we got \n",
            " Q1 = 14.6\n",
            " Q2 = 24.4 \n",
            " Q3 = 42.5\n",
            " IQR = 27.9\n"
          ],
          "name": "stdout"
        }
      ]
    },
    {
      "cell_type": "code",
      "metadata": {
        "colab": {
          "base_uri": "https://localhost:8080/"
        },
        "id": "QMjIx632qAQ5",
        "outputId": "fc92b027-4e10-4592-93d9-389a49d8054e"
      },
      "source": [
        "low_lim = Q1 - 1.5 * IQR\n",
        "up_lim = Q3 + 1.5 * IQR\n",
        "print('low_limit is', low_lim.round(2))\n",
        "print('up_limit is', up_lim)"
      ],
      "execution_count": 162,
      "outputs": [
        {
          "output_type": "stream",
          "text": [
            "low_limit is -27.25\n",
            "up_limit is 84.35\n"
          ],
          "name": "stdout"
        }
      ]
    },
    {
      "cell_type": "markdown",
      "metadata": {
        "id": "DcS26NIXqYrR"
      },
      "source": [
        "here only up limit is gonna be used : price is positive value and price repartition on lower bound is not so far of the Q2 value"
      ]
    },
    {
      "cell_type": "code",
      "metadata": {
        "colab": {
          "base_uri": "https://localhost:8080/"
        },
        "id": "jMlVMMWgqPbk",
        "outputId": "3a33959b-666e-4aec-d4ee-42d09f0c7ac2"
      },
      "source": [
        "df_iqr = df_full.drop(df_full[df_full.price > 84.35 ].index)\n",
        "print(df_full.shape)\n",
        "print(df_iqr.shape)\n",
        "print (\"le nombre d'outliers avec l'Interquartile est :\" ,df_full.shape[0] - df_iqr.shape[0])"
      ],
      "execution_count": 163,
      "outputs": [
        {
          "output_type": "stream",
          "text": [
            "(805, 36)\n",
            "(769, 36)\n",
            "le nombre d'outliers avec l'Interquartile est : 36\n"
          ],
          "name": "stdout"
        }
      ]
    },
    {
      "cell_type": "markdown",
      "metadata": {
        "id": "Mh6jOWHQrnYg"
      },
      "source": [
        "## Z-score to detect outliers"
      ]
    },
    {
      "cell_type": "markdown",
      "metadata": {
        "id": "L21Cw0rwx1yE"
      },
      "source": [
        "We choose to keep only the values into a two standard deviation interval on eatch side of the mean"
      ]
    },
    {
      "cell_type": "code",
      "metadata": {
        "colab": {
          "base_uri": "https://localhost:8080/"
        },
        "id": "e6uNioaOjJIk",
        "outputId": "869a9fe4-214b-4cd5-baef-a2fd8f15878a"
      },
      "source": [
        "df_full['zscore'] = ( df_full['price'] - df_full['price'].mean() ) / df_full['price'].std()\n",
        "df_zscore = df_full[(-2<df_full['zscore']) & (df_full['zscore'] <2)]\n",
        "print(df_full.shape)\n",
        "print(df_zscore.shape)\n",
        "print (\"le nombre d'outliers avec le Z-score est :\" ,df_full.shape[0] - df_zscore.shape[0])"
      ],
      "execution_count": 164,
      "outputs": [
        {
          "output_type": "stream",
          "text": [
            "(805, 37)\n",
            "(772, 37)\n",
            "le nombre d'outliers avec le Z-score est : 33\n"
          ],
          "name": "stdout"
        }
      ]
    },
    {
      "cell_type": "markdown",
      "metadata": {
        "id": "rzFkQ88rpB6P"
      },
      "source": [
        "## Exporting Curated Datas"
      ]
    },
    {
      "cell_type": "code",
      "metadata": {
        "colab": {
          "base_uri": "https://localhost:8080/",
          "height": 0
        },
        "id": "YOyM2doYn6nJ",
        "outputId": "15c2022d-b916-4da7-f8c2-21f878750141"
      },
      "source": [
        "df_zscore\n",
        "df_iqr\n",
        "from google.colab import files\n",
        "df_zscore.to_csv('df_zscore.csv') \n",
        "files.download('df_zscore.csv')\n",
        "df_iqr.to_csv('df_iqr.csv') \n",
        "files.download('df_iqr.csv')"
      ],
      "execution_count": 165,
      "outputs": [
        {
          "output_type": "display_data",
          "data": {
            "application/javascript": [
              "\n",
              "    async function download(id, filename, size) {\n",
              "      if (!google.colab.kernel.accessAllowed) {\n",
              "        return;\n",
              "      }\n",
              "      const div = document.createElement('div');\n",
              "      const label = document.createElement('label');\n",
              "      label.textContent = `Downloading \"${filename}\": `;\n",
              "      div.appendChild(label);\n",
              "      const progress = document.createElement('progress');\n",
              "      progress.max = size;\n",
              "      div.appendChild(progress);\n",
              "      document.body.appendChild(div);\n",
              "\n",
              "      const buffers = [];\n",
              "      let downloaded = 0;\n",
              "\n",
              "      const channel = await google.colab.kernel.comms.open(id);\n",
              "      // Send a message to notify the kernel that we're ready.\n",
              "      channel.send({})\n",
              "\n",
              "      for await (const message of channel.messages) {\n",
              "        // Send a message to notify the kernel that we're ready.\n",
              "        channel.send({})\n",
              "        if (message.buffers) {\n",
              "          for (const buffer of message.buffers) {\n",
              "            buffers.push(buffer);\n",
              "            downloaded += buffer.byteLength;\n",
              "            progress.value = downloaded;\n",
              "          }\n",
              "        }\n",
              "      }\n",
              "      const blob = new Blob(buffers, {type: 'application/binary'});\n",
              "      const a = document.createElement('a');\n",
              "      a.href = window.URL.createObjectURL(blob);\n",
              "      a.download = filename;\n",
              "      div.appendChild(a);\n",
              "      a.click();\n",
              "      div.remove();\n",
              "    }\n",
              "  "
            ],
            "text/plain": [
              "<IPython.core.display.Javascript object>"
            ]
          },
          "metadata": {
            "tags": []
          }
        },
        {
          "output_type": "display_data",
          "data": {
            "application/javascript": [
              "download(\"download_6191dfa2-e1c7-4c22-ae85-a4f57183ed01\", \"df_zscore.csv\", 489396)"
            ],
            "text/plain": [
              "<IPython.core.display.Javascript object>"
            ]
          },
          "metadata": {
            "tags": []
          }
        },
        {
          "output_type": "display_data",
          "data": {
            "application/javascript": [
              "\n",
              "    async function download(id, filename, size) {\n",
              "      if (!google.colab.kernel.accessAllowed) {\n",
              "        return;\n",
              "      }\n",
              "      const div = document.createElement('div');\n",
              "      const label = document.createElement('label');\n",
              "      label.textContent = `Downloading \"${filename}\": `;\n",
              "      div.appendChild(label);\n",
              "      const progress = document.createElement('progress');\n",
              "      progress.max = size;\n",
              "      div.appendChild(progress);\n",
              "      document.body.appendChild(div);\n",
              "\n",
              "      const buffers = [];\n",
              "      let downloaded = 0;\n",
              "\n",
              "      const channel = await google.colab.kernel.comms.open(id);\n",
              "      // Send a message to notify the kernel that we're ready.\n",
              "      channel.send({})\n",
              "\n",
              "      for await (const message of channel.messages) {\n",
              "        // Send a message to notify the kernel that we're ready.\n",
              "        channel.send({})\n",
              "        if (message.buffers) {\n",
              "          for (const buffer of message.buffers) {\n",
              "            buffers.push(buffer);\n",
              "            downloaded += buffer.byteLength;\n",
              "            progress.value = downloaded;\n",
              "          }\n",
              "        }\n",
              "      }\n",
              "      const blob = new Blob(buffers, {type: 'application/binary'});\n",
              "      const a = document.createElement('a');\n",
              "      a.href = window.URL.createObjectURL(blob);\n",
              "      a.download = filename;\n",
              "      div.appendChild(a);\n",
              "      a.click();\n",
              "      div.remove();\n",
              "    }\n",
              "  "
            ],
            "text/plain": [
              "<IPython.core.display.Javascript object>"
            ]
          },
          "metadata": {
            "tags": []
          }
        },
        {
          "output_type": "display_data",
          "data": {
            "application/javascript": [
              "download(\"download_d85b85bb-bb96-464e-9af0-1d8adf00f563\", \"df_iqr.csv\", 473097)"
            ],
            "text/plain": [
              "<IPython.core.display.Javascript object>"
            ]
          },
          "metadata": {
            "tags": []
          }
        }
      ]
    },
    {
      "cell_type": "markdown",
      "metadata": {
        "id": "ONFcqw2Zz46U"
      },
      "source": [
        "# Visualizing Outliers"
      ]
    },
    {
      "cell_type": "code",
      "metadata": {
        "colab": {
          "base_uri": "https://localhost:8080/",
          "height": 0
        },
        "id": "qtrCxeLyz_Vy",
        "outputId": "12851125-ab77-4c9d-d7e1-028515164787"
      },
      "source": [
        "df_plot_outliers = df_full.drop(df_full[df_full.price < 84.35 ].index)\n",
        "sns.scatterplot(data=df_plot_outliers, x='price', y='total_sales')"
      ],
      "execution_count": 166,
      "outputs": [
        {
          "output_type": "execute_result",
          "data": {
            "text/plain": [
              "<matplotlib.axes._subplots.AxesSubplot at 0x7f4011ecd610>"
            ]
          },
          "metadata": {
            "tags": []
          },
          "execution_count": 166
        },
        {
          "output_type": "display_data",
          "data": {
            "image/png": "[encoded data removed]",
            "text/plain": [
              "<Figure size 864x504 with 1 Axes>"
            ]
          },
          "metadata": {
            "tags": []
          }
        }
      ]
    },
    {
      "cell_type": "markdown",
      "metadata": {
        "id": "pNuSiT1esno7"
      },
      "source": [
        "# Making dataframes for IA"
      ]
    },
    {
      "cell_type": "code",
      "metadata": {
        "colab": {
          "base_uri": "https://localhost:8080/"
        },
        "id": "pKA7XDOFsmoX",
        "outputId": "e994198d-5032-4508-f095-77577c427fc3"
      },
      "source": [
        "df_pca = df_full[['price','total_sales','stock_quantity']]\n",
        "df_pca = df_full[['price','total_sales','stock_quantity']]\n",
        "df_pca = df_pca.dropna()\n",
        "print(df_pca.shape)"
      ],
      "execution_count": 167,
      "outputs": [
        {
          "output_type": "stream",
          "text": [
            "(714, 3)\n"
          ],
          "name": "stdout"
        }
      ]
    },
    {
      "cell_type": "code",
      "metadata": {
        "colab": {
          "base_uri": "https://localhost:8080/"
        },
        "id": "DIKBq9BxyqX6",
        "outputId": "a22e127e-8097-4f8c-8085-aa1604a4845e"
      },
      "source": [
        "df_iqr_ia = df_iqr[['price','total_sales','stock_quantity']]\n",
        "df_iqr_ia = df_iqr_ia.dropna()\n",
        "print(df_iqr_ia.shape)"
      ],
      "execution_count": 168,
      "outputs": [
        {
          "output_type": "stream",
          "text": [
            "(682, 3)\n"
          ],
          "name": "stdout"
        }
      ]
    },
    {
      "cell_type": "code",
      "metadata": {
        "colab": {
          "base_uri": "https://localhost:8080/"
        },
        "id": "PfD9IRExyz5Z",
        "outputId": "1cf00265-b715-47d6-dd43-3216f5d34b12"
      },
      "source": [
        "df_zscore_ia = df_zscore[['price','total_sales','stock_quantity']]\n",
        "df_zscore_ia = df_zscore_ia.dropna()\n",
        "print(df_zscore_ia.shape)"
      ],
      "execution_count": 169,
      "outputs": [
        {
          "output_type": "stream",
          "text": [
            "(683, 3)\n"
          ],
          "name": "stdout"
        }
      ]
    },
    {
      "cell_type": "markdown",
      "metadata": {
        "id": "EeBv-1lTYW5B"
      },
      "source": [
        "## stuff for ACP"
      ]
    },
    {
      "cell_type": "code",
      "metadata": {
        "id": "loTU1p7vYaba"
      },
      "source": [
        "# Plotting function for ACP\n",
        "def display_circles(pcs, n_comp, pca, axis_ranks, labels=None, label_rotation=0, lims=None):\n",
        "    for d1, d2 in axis_ranks: # On affiche les 3 premiers plans factoriels, donc les 6 premières composantes\n",
        "        if d2 < n_comp:\n",
        "\n",
        "            # initialisation de la figure\n",
        "            fig, ax = plt.subplots(figsize=(7,6))\n",
        "\n",
        "            # détermination des limites du graphique\n",
        "            if lims is not None :\n",
        "                xmin, xmax, ymin, ymax = lims\n",
        "            elif pcs.shape[1] < 30 :\n",
        "                xmin, xmax, ymin, ymax = -1, 1, -1, 1\n",
        "            else :\n",
        "                xmin, xmax, ymin, ymax = min(pcs[d1,:]), max(pcs[d1,:]), min(pcs[d2,:]), max(pcs[d2,:])\n",
        "\n",
        "            # affichage des flèches\n",
        "            # s'il y a plus de 30 flèches, on n'affiche pas le triangle à leur extrémité\n",
        "            if pcs.shape[1] < 30 :\n",
        "                plt.quiver(np.zeros(pcs.shape[1]), np.zeros(pcs.shape[1]),\n",
        "                   pcs[d1,:], pcs[d2,:], \n",
        "                   angles='xy', scale_units='xy', scale=1, color=\"grey\")\n",
        "                # (voir la doc : https://matplotlib.org/api/_as_gen/matplotlib.pyplot.quiver.html)\n",
        "            else:\n",
        "                lines = [[[0,0],[x,y]] for x,y in pcs[[d1,d2]].T]\n",
        "                ax.add_collection(LineCollection(lines, axes=ax, alpha=.1, color='black'))\n",
        "            \n",
        "            # affichage des noms des variables  \n",
        "            if labels is not None:  \n",
        "                for i,(x, y) in enumerate(pcs[[d1,d2]].T):\n",
        "                    if x >= xmin and x <= xmax and y >= ymin and y <= ymax :\n",
        "                        plt.text(x, y, labels[i], fontsize='14', ha='center', va='center', rotation=label_rotation, color=\"blue\", alpha=0.5)\n",
        "            \n",
        "            # affichage du cercle\n",
        "            circle = plt.Circle((0,0), 1, facecolor='none', edgecolor='b')\n",
        "            plt.gca().add_artist(circle)\n",
        "\n",
        "            # définition des limites du graphique\n",
        "            plt.xlim(xmin, xmax)\n",
        "            plt.ylim(ymin, ymax)\n",
        "        \n",
        "            # affichage des lignes horizontales et verticales\n",
        "            plt.plot([-1, 1], [0, 0], color='grey', ls='--')\n",
        "            plt.plot([0, 0], [-1, 1], color='grey', ls='--')\n",
        "\n",
        "            # nom des axes, avec le pourcentage d'inertie expliqué\n",
        "            plt.xlabel('F{} ({}%)'.format(d1+1, round(100*pca.explained_variance_ratio_[d1],1)))\n",
        "            plt.ylabel('F{} ({}%)'.format(d2+1, round(100*pca.explained_variance_ratio_[d2],1)))\n",
        "\n",
        "            plt.title(\"Cercle des corrélations (F{} et F{})\".format(d1+1, d2+1))\n",
        "            plt.show(block=False)\n",
        "        \n",
        "def display_factorial_planes(X_projected, n_comp, pca, axis_ranks, labels=None, alpha=1, illustrative_var=None):\n",
        "    for d1,d2 in axis_ranks:\n",
        "        if d2 < n_comp:\n",
        " \n",
        "            # initialisation de la figure       \n",
        "            fig = plt.figure(figsize=(7,6))\n",
        "        \n",
        "            # affichage des points\n",
        "            if illustrative_var is None:\n",
        "                plt.scatter(X_projected[:, d1], X_projected[:, d2], alpha=alpha)\n",
        "            else:\n",
        "                illustrative_var = np.array(illustrative_var)\n",
        "                for value in np.unique(illustrative_var):\n",
        "                    selected = np.where(illustrative_var == value)\n",
        "                    plt.scatter(X_projected[selected, d1], X_projected[selected, d2], alpha=alpha, label=value)\n",
        "                plt.legend()\n",
        "\n",
        "            # affichage des labels des points\n",
        "            if labels is not None:\n",
        "                for i,(x,y) in enumerate(X_projected[:,[d1,d2]]):\n",
        "                    plt.text(x, y, labels[i],\n",
        "                              fontsize='14', ha='center',va='center') \n",
        "                \n",
        "            # détermination des limites du graphique\n",
        "            boundary = np.max(np.abs(X_projected[:, [d1,d2]])) * 1.1\n",
        "            plt.xlim([-boundary,boundary])\n",
        "            plt.ylim([-boundary,boundary])\n",
        "        \n",
        "            # affichage des lignes horizontales et verticales\n",
        "            plt.plot([-100, 100], [0, 0], color='grey', ls='--')\n",
        "            plt.plot([0, 0], [-100, 100], color='grey', ls='--')\n",
        "\n",
        "            # nom des axes, avec le pourcentage d'inertie expliqué\n",
        "            plt.xlabel('F{} ({}%)'.format(d1+1, round(100*pca.explained_variance_ratio_[d1],1)))\n",
        "            plt.ylabel('F{} ({}%)'.format(d2+1, round(100*pca.explained_variance_ratio_[d2],1)))\n",
        "\n",
        "            plt.title(\"Projection des individus (sur F{} et F{})\".format(d1+1, d2+1))\n",
        "            plt.show(block=False)\n",
        "\n",
        "def display_scree_plot(pca):\n",
        "    scree = pca.explained_variance_ratio_*100\n",
        "    plt.bar(np.arange(len(scree))+1, scree)\n",
        "    plt.plot(np.arange(len(scree))+1, scree.cumsum(),c=\"red\",marker='o')\n",
        "    plt.xlabel(\"rang de l'axe d'inertie\")\n",
        "    plt.ylabel(\"pourcentage d'inertie\")\n",
        "    plt.title(\"Eboulis des valeurs propres\")\n",
        "    plt.show(block=False)\n",
        "\n",
        "def plot_dendrogram(Z, names):\n",
        "    plt.figure(figsize=(10,25))\n",
        "    plt.title('Hierarchical Clustering Dendrogram')\n",
        "    plt.xlabel('distance')\n",
        "    dendrogram(\n",
        "        Z,\n",
        "        labels = names,\n",
        "        orientation = \"left\",\n",
        "    )\n",
        "    plt.show()"
      ],
      "execution_count": 170,
      "outputs": []
    },
    {
      "cell_type": "markdown",
      "metadata": {
        "id": "4pYNNwNAc26U"
      },
      "source": [
        "# my ACP 3 components"
      ]
    },
    {
      "cell_type": "markdown",
      "metadata": {
        "id": "eucVJ7sZTu7Q"
      },
      "source": [
        "Acp is Working\n",
        "Don't worry the error message is normal "
      ]
    },
    {
      "cell_type": "code",
      "metadata": {
        "colab": {
          "base_uri": "https://localhost:8080/"
        },
        "id": "Vjb7XA31Njrr",
        "outputId": "3b48a8aa-78c2-459b-c51c-7f52c107b01e"
      },
      "source": [
        "print(df_pca.shape)\n",
        "df_pca = df_pca.dropna()\n",
        "print(df_pca.shape)"
      ],
      "execution_count": 171,
      "outputs": [
        {
          "output_type": "stream",
          "text": [
            "(714, 3)\n",
            "(714, 3)\n"
          ],
          "name": "stdout"
        }
      ]
    },
    {
      "cell_type": "code",
      "metadata": {
        "id": "sx2F6k0Wc76B",
        "colab": {
          "base_uri": "https://localhost:8080/",
          "height": 1000
        },
        "outputId": "73addf18-ff44-4413-988d-71d45bda0e62"
      },
      "source": [
        "# choix du nombre de composantes à calculer\n",
        "n_comp = 3\n",
        "\n",
        "# selection des colonnes à prendre en compte dans l'ACP\n",
        "data_pca = df_pca\n",
        "\n",
        "# préparation des données pour l'ACP\n",
        "#data_pca = data_pca.fillna(data_pca.mean()) # Il est fréquent de remplacer les valeurs inconnues par la moyenne de la variable\n",
        "X1 = df_pca.values\n",
        "names = ['price', 'total_sales', 'stock_quantity']# ou data.index pour avoir les intitulés\n",
        "features = data_pca.columns\n",
        "\n",
        "# Centrage et Réduction\n",
        "std_scale = preprocessing.StandardScaler().fit(X1)\n",
        "X_scaled = std_scale.transform(X1)\n",
        "\n",
        "# Calcul des composantes principales\n",
        "pca = decomposition.PCA(n_components=n_comp)\n",
        "pca.fit(X_scaled)\n",
        "\n",
        "# Eboulis des valeurs propres\n",
        "display_scree_plot(pca)\n",
        "\n",
        "# Cercle des corrélations\n",
        "pcs = pca.components_\n",
        "display_circles(pcs, n_comp, pca, [(0,1),(2,3),(4,5)], labels = np.array(features))\n",
        "\n",
        "# Projection des individus\n",
        "X_projected = pca.transform(X_scaled)\n",
        "display_factorial_planes(X_projected, n_comp, pca, [(0,1),(2,3),(4,5)], labels = np.array(names))\n",
        "\n",
        "plt.show()"
      ],
      "execution_count": 172,
      "outputs": [
        {
          "output_type": "display_data",
          "data": {
            "image/png": "[encoded data removed]",
            "text/plain": [
              "<Figure size 864x504 with 1 Axes>"
            ]
          },
          "metadata": {
            "tags": []
          }
        },
        {
          "output_type": "display_data",
          "data": {
            "image/png": "[encoded data removed]",
            "text/plain": [
              "<Figure size 504x432 with 1 Axes>"
            ]
          },
          "metadata": {
            "tags": []
          }
        },
        {
          "output_type": "error",
          "ename": "IndexError",
          "evalue": "ignored",
          "traceback": [
            "\u001b[0;31m---------------------------------------------------------------------------\u001b[0m",
            "\u001b[0;31mIndexError\u001b[0m                                Traceback (most recent call last)",
            "\u001b[0;32m<ipython-input-172-c1d73b0ddd84>\u001b[0m in \u001b[0;36m<module>\u001b[0;34m()\u001b[0m\n\u001b[1;32m     28\u001b[0m \u001b[0;31m# Projection des individus\u001b[0m\u001b[0;34m\u001b[0m\u001b[0;34m\u001b[0m\u001b[0;34m\u001b[0m\u001b[0m\n\u001b[1;32m     29\u001b[0m \u001b[0mX_projected\u001b[0m \u001b[0;34m=\u001b[0m \u001b[0mpca\u001b[0m\u001b[0;34m.\u001b[0m\u001b[0mtransform\u001b[0m\u001b[0;34m(\u001b[0m\u001b[0mX_scaled\u001b[0m\u001b[0;34m)\u001b[0m\u001b[0;34m\u001b[0m\u001b[0;34m\u001b[0m\u001b[0m\n\u001b[0;32m---> 30\u001b[0;31m \u001b[0mdisplay_factorial_planes\u001b[0m\u001b[0;34m(\u001b[0m\u001b[0mX_projected\u001b[0m\u001b[0;34m,\u001b[0m \u001b[0mn_comp\u001b[0m\u001b[0;34m,\u001b[0m \u001b[0mpca\u001b[0m\u001b[0;34m,\u001b[0m \u001b[0;34m[\u001b[0m\u001b[0;34m(\u001b[0m\u001b[0;36m0\u001b[0m\u001b[0;34m,\u001b[0m\u001b[0;36m1\u001b[0m\u001b[0;34m)\u001b[0m\u001b[0;34m,\u001b[0m\u001b[0;34m(\u001b[0m\u001b[0;36m2\u001b[0m\u001b[0;34m,\u001b[0m\u001b[0;36m3\u001b[0m\u001b[0;34m)\u001b[0m\u001b[0;34m,\u001b[0m\u001b[0;34m(\u001b[0m\u001b[0;36m4\u001b[0m\u001b[0;34m,\u001b[0m\u001b[0;36m5\u001b[0m\u001b[0;34m)\u001b[0m\u001b[0;34m]\u001b[0m\u001b[0;34m,\u001b[0m \u001b[0mlabels\u001b[0m \u001b[0;34m=\u001b[0m \u001b[0mnp\u001b[0m\u001b[0;34m.\u001b[0m\u001b[0marray\u001b[0m\u001b[0;34m(\u001b[0m\u001b[0mnames\u001b[0m\u001b[0;34m)\u001b[0m\u001b[0;34m)\u001b[0m\u001b[0;34m\u001b[0m\u001b[0;34m\u001b[0m\u001b[0m\n\u001b[0m\u001b[1;32m     31\u001b[0m \u001b[0;34m\u001b[0m\u001b[0m\n\u001b[1;32m     32\u001b[0m \u001b[0mplt\u001b[0m\u001b[0;34m.\u001b[0m\u001b[0mshow\u001b[0m\u001b[0;34m(\u001b[0m\u001b[0;34m)\u001b[0m\u001b[0;34m\u001b[0m\u001b[0;34m\u001b[0m\u001b[0m\n",
            "\u001b[0;32m<ipython-input-170-c4f24a4c1738>\u001b[0m in \u001b[0;36mdisplay_factorial_planes\u001b[0;34m(X_projected, n_comp, pca, axis_ranks, labels, alpha, illustrative_var)\u001b[0m\n\u001b[1;32m     71\u001b[0m             \u001b[0;32mif\u001b[0m \u001b[0mlabels\u001b[0m \u001b[0;32mis\u001b[0m \u001b[0;32mnot\u001b[0m \u001b[0;32mNone\u001b[0m\u001b[0;34m:\u001b[0m\u001b[0;34m\u001b[0m\u001b[0;34m\u001b[0m\u001b[0m\n\u001b[1;32m     72\u001b[0m                 \u001b[0;32mfor\u001b[0m \u001b[0mi\u001b[0m\u001b[0;34m,\u001b[0m\u001b[0;34m(\u001b[0m\u001b[0mx\u001b[0m\u001b[0;34m,\u001b[0m\u001b[0my\u001b[0m\u001b[0;34m)\u001b[0m \u001b[0;32min\u001b[0m \u001b[0menumerate\u001b[0m\u001b[0;34m(\u001b[0m\u001b[0mX_projected\u001b[0m\u001b[0;34m[\u001b[0m\u001b[0;34m:\u001b[0m\u001b[0;34m,\u001b[0m\u001b[0;34m[\u001b[0m\u001b[0md1\u001b[0m\u001b[0;34m,\u001b[0m\u001b[0md2\u001b[0m\u001b[0;34m]\u001b[0m\u001b[0;34m]\u001b[0m\u001b[0;34m)\u001b[0m\u001b[0;34m:\u001b[0m\u001b[0;34m\u001b[0m\u001b[0;34m\u001b[0m\u001b[0m\n\u001b[0;32m---> 73\u001b[0;31m                     plt.text(x, y, labels[i],\n\u001b[0m\u001b[1;32m     74\u001b[0m                               fontsize='14', ha='center',va='center') \n\u001b[1;32m     75\u001b[0m \u001b[0;34m\u001b[0m\u001b[0m\n",
            "\u001b[0;31mIndexError\u001b[0m: index 3 is out of bounds for axis 0 with size 3"
          ]
        },
        {
          "output_type": "display_data",
          "data": {
            "image/png": "[encoded data removed]",
            "text/plain": [
              "<Figure size 504x432 with 1 Axes>"
            ]
          },
          "metadata": {
            "tags": []
          }
        }
      ]
    },
    {
      "cell_type": "code",
      "metadata": {
        "id": "DkhTYDI9-cns"
      },
      "source": [
        "eigenvalues = pca.explained_variance_\n",
        "eigenvectors = pca.components_\n",
        "print( \"Les vecteurs propres de l'ACP sont :\\n\",eigenvectors )\n",
        "#kmeans.cluster_centers_"
      ],
      "execution_count": null,
      "outputs": []
    },
    {
      "cell_type": "markdown",
      "metadata": {
        "id": "b4bAP6clW_Im"
      },
      "source": [
        "# Acp 2 components"
      ]
    },
    {
      "cell_type": "code",
      "metadata": {
        "colab": {
          "base_uri": "https://localhost:8080/",
          "height": 1000
        },
        "id": "fazqn6VbXHeT",
        "outputId": "cfaf89f5-957d-4746-ebd0-fc0bcd50ab82"
      },
      "source": [
        "# choix du nombre de composantes à calculer\n",
        "n_comp = 2\n",
        "\n",
        "# selection des colonnes à prendre en compte dans l'ACP\n",
        "data_pca = df_pca\n",
        "\n",
        "# préparation des données pour l'ACP\n",
        "#data_pca = data_pca.fillna(data_pca.mean()) # Il est fréquent de remplacer les valeurs inconnues par la moyenne de la variable\n",
        "X1 = df_pca.values\n",
        "names = ['price', 'total_sales', 'stock_quantity']# ou data.index pour avoir les intitulés\n",
        "features = data_pca.columns\n",
        "\n",
        "# Centrage et Réduction\n",
        "std_scale = preprocessing.StandardScaler().fit(X1)\n",
        "X_scaled = std_scale.transform(X1)\n",
        "\n",
        "# Calcul des composantes principales\n",
        "pca2 = decomposition.PCA(n_components=n_comp)\n",
        "pca2.fit(X_scaled)\n",
        "\n",
        "# Eboulis des valeurs propres\n",
        "display_scree_plot(pca2)\n",
        "\n",
        "# Cercle des corrélations\n",
        "pcs = pca2.components_\n",
        "display_circles(pcs, n_comp, pca2, [(0,1),(2,3),(4,5)], labels = np.array(features))\n",
        "\n",
        "# Projection des individus\n",
        "X_projected = pca2.transform(X_scaled)\n",
        "display_factorial_planes(X_projected, n_comp, pca2, [(0,1),(2,3),(4,5)], labels = np.array(names))\n",
        "plt.show()"
      ],
      "execution_count": 173,
      "outputs": [
        {
          "output_type": "display_data",
          "data": {
            "image/png": "[encoded data removed]",
            "text/plain": [
              "<Figure size 864x504 with 1 Axes>"
            ]
          },
          "metadata": {
            "tags": []
          }
        },
        {
          "output_type": "display_data",
          "data": {
            "image/png": "[encoded data removed]",
            "text/plain": [
              "<Figure size 504x432 with 1 Axes>"
            ]
          },
          "metadata": {
            "tags": []
          }
        },
        {
          "output_type": "error",
          "ename": "IndexError",
          "evalue": "ignored",
          "traceback": [
            "\u001b[0;31m---------------------------------------------------------------------------\u001b[0m",
            "\u001b[0;31mIndexError\u001b[0m                                Traceback (most recent call last)",
            "\u001b[0;32m<ipython-input-173-28164b967e0b>\u001b[0m in \u001b[0;36m<module>\u001b[0;34m()\u001b[0m\n\u001b[1;32m     28\u001b[0m \u001b[0;31m# Projection des individus\u001b[0m\u001b[0;34m\u001b[0m\u001b[0;34m\u001b[0m\u001b[0;34m\u001b[0m\u001b[0m\n\u001b[1;32m     29\u001b[0m \u001b[0mX_projected\u001b[0m \u001b[0;34m=\u001b[0m \u001b[0mpca2\u001b[0m\u001b[0;34m.\u001b[0m\u001b[0mtransform\u001b[0m\u001b[0;34m(\u001b[0m\u001b[0mX_scaled\u001b[0m\u001b[0;34m)\u001b[0m\u001b[0;34m\u001b[0m\u001b[0;34m\u001b[0m\u001b[0m\n\u001b[0;32m---> 30\u001b[0;31m \u001b[0mdisplay_factorial_planes\u001b[0m\u001b[0;34m(\u001b[0m\u001b[0mX_projected\u001b[0m\u001b[0;34m,\u001b[0m \u001b[0mn_comp\u001b[0m\u001b[0;34m,\u001b[0m \u001b[0mpca2\u001b[0m\u001b[0;34m,\u001b[0m \u001b[0;34m[\u001b[0m\u001b[0;34m(\u001b[0m\u001b[0;36m0\u001b[0m\u001b[0;34m,\u001b[0m\u001b[0;36m1\u001b[0m\u001b[0;34m)\u001b[0m\u001b[0;34m,\u001b[0m\u001b[0;34m(\u001b[0m\u001b[0;36m2\u001b[0m\u001b[0;34m,\u001b[0m\u001b[0;36m3\u001b[0m\u001b[0;34m)\u001b[0m\u001b[0;34m,\u001b[0m\u001b[0;34m(\u001b[0m\u001b[0;36m4\u001b[0m\u001b[0;34m,\u001b[0m\u001b[0;36m5\u001b[0m\u001b[0;34m)\u001b[0m\u001b[0;34m]\u001b[0m\u001b[0;34m,\u001b[0m \u001b[0mlabels\u001b[0m \u001b[0;34m=\u001b[0m \u001b[0mnp\u001b[0m\u001b[0;34m.\u001b[0m\u001b[0marray\u001b[0m\u001b[0;34m(\u001b[0m\u001b[0mnames\u001b[0m\u001b[0;34m)\u001b[0m\u001b[0;34m)\u001b[0m\u001b[0;34m\u001b[0m\u001b[0;34m\u001b[0m\u001b[0m\n\u001b[0m\u001b[1;32m     31\u001b[0m \u001b[0mplt\u001b[0m\u001b[0;34m.\u001b[0m\u001b[0mshow\u001b[0m\u001b[0;34m(\u001b[0m\u001b[0;34m)\u001b[0m\u001b[0;34m\u001b[0m\u001b[0;34m\u001b[0m\u001b[0m\n",
            "\u001b[0;32m<ipython-input-170-c4f24a4c1738>\u001b[0m in \u001b[0;36mdisplay_factorial_planes\u001b[0;34m(X_projected, n_comp, pca, axis_ranks, labels, alpha, illustrative_var)\u001b[0m\n\u001b[1;32m     71\u001b[0m             \u001b[0;32mif\u001b[0m \u001b[0mlabels\u001b[0m \u001b[0;32mis\u001b[0m \u001b[0;32mnot\u001b[0m \u001b[0;32mNone\u001b[0m\u001b[0;34m:\u001b[0m\u001b[0;34m\u001b[0m\u001b[0;34m\u001b[0m\u001b[0m\n\u001b[1;32m     72\u001b[0m                 \u001b[0;32mfor\u001b[0m \u001b[0mi\u001b[0m\u001b[0;34m,\u001b[0m\u001b[0;34m(\u001b[0m\u001b[0mx\u001b[0m\u001b[0;34m,\u001b[0m\u001b[0my\u001b[0m\u001b[0;34m)\u001b[0m \u001b[0;32min\u001b[0m \u001b[0menumerate\u001b[0m\u001b[0;34m(\u001b[0m\u001b[0mX_projected\u001b[0m\u001b[0;34m[\u001b[0m\u001b[0;34m:\u001b[0m\u001b[0;34m,\u001b[0m\u001b[0;34m[\u001b[0m\u001b[0md1\u001b[0m\u001b[0;34m,\u001b[0m\u001b[0md2\u001b[0m\u001b[0;34m]\u001b[0m\u001b[0;34m]\u001b[0m\u001b[0;34m)\u001b[0m\u001b[0;34m:\u001b[0m\u001b[0;34m\u001b[0m\u001b[0;34m\u001b[0m\u001b[0m\n\u001b[0;32m---> 73\u001b[0;31m                     plt.text(x, y, labels[i],\n\u001b[0m\u001b[1;32m     74\u001b[0m                               fontsize='14', ha='center',va='center') \n\u001b[1;32m     75\u001b[0m \u001b[0;34m\u001b[0m\u001b[0m\n",
            "\u001b[0;31mIndexError\u001b[0m: index 3 is out of bounds for axis 0 with size 3"
          ]
        },
        {
          "output_type": "display_data",
          "data": {
            "image/png": "[encoded data removed]",
            "text/plain": [
              "<Figure size 504x432 with 1 Axes>"
            ]
          },
          "metadata": {
            "tags": []
          }
        }
      ]
    },
    {
      "cell_type": "code",
      "metadata": {
        "id": "itGLAj2JXcDK"
      },
      "source": [
        "eigenvalues = pca2.explained_variance_\n",
        "eigenvectors = pca2.components_\n",
        "print( \"Les vecteurs propres de l'ACP sont :\\n\",eigenvectors )"
      ],
      "execution_count": null,
      "outputs": []
    },
    {
      "cell_type": "markdown",
      "metadata": {
        "id": "tFQeQKfGK5c5"
      },
      "source": [
        "# Kmeans"
      ]
    },
    {
      "cell_type": "markdown",
      "metadata": {
        "id": "iybYFAORU9t0"
      },
      "source": [
        ""
      ]
    },
    {
      "cell_type": "code",
      "metadata": {
        "id": "p5bzZTP_MXFx",
        "colab": {
          "base_uri": "https://localhost:8080/"
        },
        "outputId": "86f57bc8-6012-42a9-b9b9-3a451718f460"
      },
      "source": [
        "# Feed with all the dataset\n",
        "import matplotlib.pyplot as plt\n",
        "import numpy as np\n",
        "from sklearn.datasets import make_blobs\n",
        "from sklearn.cluster import KMeans\n",
        "X = df_pca\n",
        "kmeans_full = KMeans(n_clusters=5, random_state=0).fit(X)\n",
        "#'price','total_sales','stock_quantity'\n",
        "print('Les Coordonées des centroides sont :')\n",
        "kmeans_full.cluster_centers_"
      ],
      "execution_count": 174,
      "outputs": [
        {
          "output_type": "stream",
          "text": [
            "Les Coordonées des centroides sont :\n"
          ],
          "name": "stdout"
        },
        {
          "output_type": "execute_result",
          "data": {
            "text/plain": [
              "array([[ 31.98107417,   3.36828645,   6.68542199],\n",
              "       [ 11.55272727,  11.34545455, 124.27272727],\n",
              "       [ 11.1       ,  13.125     , 318.875     ],\n",
              "       [ 98.53939394,   1.24242424,   8.16666667],\n",
              "       [ 17.87474227,   3.79896907,  41.16494845]])"
            ]
          },
          "metadata": {
            "tags": []
          },
          "execution_count": 174
        }
      ]
    },
    {
      "cell_type": "code",
      "metadata": {
        "id": "myh26kmKYRI0",
        "colab": {
          "base_uri": "https://localhost:8080/"
        },
        "outputId": "665c77b8-aeac-40a3-e6ae-a0efc4d16913"
      },
      "source": [
        "# Feed only with 66% of the dataset\n",
        "from sklearn.model_selection import train_test_split\n",
        "X_train, X_test = train_test_split(X, test_size=0.33, random_state=42)\n",
        "kmeans = KMeans(n_clusters=5, random_state=42).fit(X_train)\n",
        "my_predicts = kmeans.predict(X_test)\n",
        "kmeans.cluster_centers_"
      ],
      "execution_count": 175,
      "outputs": [
        {
          "output_type": "execute_result",
          "data": {
            "text/plain": [
              "array([[ 17.09233577,   3.39416058,  50.84671533],\n",
              "       [106.59459459,   1.43243243,   8.89189189],\n",
              "       [  9.38571429,  13.42857143, 172.39285714],\n",
              "       [ 31.28083942,   3.24452555,   7.31021898],\n",
              "       [ 16.4       ,  26.5       , 470.5       ]])"
            ]
          },
          "metadata": {
            "tags": []
          },
          "execution_count": 175
        }
      ]
    },
    {
      "cell_type": "markdown",
      "metadata": {
        "id": "u1DioGgXa_x2"
      },
      "source": [
        "# Silouhet and label stuff"
      ]
    },
    {
      "cell_type": "code",
      "metadata": {
        "colab": {
          "base_uri": "https://localhost:8080/"
        },
        "id": "Oq5alqyfkiYE",
        "outputId": "160dea89-3896-48f0-a7c8-fa3bce67bd1b"
      },
      "source": [
        "kmeans.labels_.shape\n",
        "X_test.shape"
      ],
      "execution_count": 176,
      "outputs": [
        {
          "output_type": "execute_result",
          "data": {
            "text/plain": [
              "(236, 3)"
            ]
          },
          "metadata": {
            "tags": []
          },
          "execution_count": 176
        }
      ]
    },
    {
      "cell_type": "code",
      "metadata": {
        "colab": {
          "base_uri": "https://localhost:8080/"
        },
        "id": "mtSVr0hLfLTI",
        "outputId": "06b491ac-3234-4ccd-c73a-40a2f33f3e81"
      },
      "source": [
        "cluster_labels = [0,1,2,3,4]\n",
        "sample_silhouette_values = silhouette_samples(X_train, kmeans.labels_)\n",
        "sample_silhouette_values"
      ],
      "execution_count": 177,
      "outputs": [
        {
          "output_type": "execute_result",
          "data": {
            "text/plain": [
              "array([ 0.50726467,  0.35709839,  0.16938996,  0.55528407,  0.60862199,\n",
              "        0.30313123,  0.59788006,  0.60558301,  0.03357298,  0.58954757,\n",
              "        0.43511199,  0.6494514 ,  0.34333776,  0.61167999,  0.56315766,\n",
              "        0.14655857,  0.56162055,  0.49423795,  0.62743122,  0.39198844,\n",
              "        0.58603846,  0.25991359,  0.59253434, -0.01596461,  0.57864118,\n",
              "        0.65156339,  0.50464044,  0.33852151,  0.56105136,  0.53004319,\n",
              "        0.59439958,  0.58926842,  0.3199757 ,  0.61302628,  0.06837814,\n",
              "        0.61549337,  0.40639657,  0.60410658,  0.12433922,  0.54390108,\n",
              "        0.27790008,  0.61461387,  0.65175969,  0.22548726,  0.53783246,\n",
              "        0.05179648, -0.01363462,  0.65343704,  0.36091629,  0.56961697,\n",
              "        0.51859746,  0.56254013,  0.53619818,  0.6540804 ,  0.36821213,\n",
              "        0.60954785,  0.47819764,  0.27257052,  0.42205449,  0.63647508,\n",
              "        0.38880144,  0.48356019,  0.3221952 ,  0.59804664,  0.64130928,\n",
              "        0.56884124,  0.59009746,  0.43467975,  0.51650684,  0.30514054,\n",
              "        0.47900643,  0.61965648,  0.56126646,  0.27722287,  0.2421234 ,\n",
              "        0.36614457,  0.6307403 ,  0.25685578,  0.60993937,  0.43105195,\n",
              "        0.48785354,  0.27089578,  0.60792718,  0.41059637,  0.54914299,\n",
              "        0.29276216,  0.01624097,  0.63445402,  0.64178085,  0.41575318,\n",
              "        0.584746  ,  0.55627808,  0.55601098,  0.61367708,  0.37356465,\n",
              "        0.63638039,  0.50243091,  0.4075962 ,  0.22656068,  0.3564337 ,\n",
              "        0.0648468 ,  0.48878296,  0.5324762 ,  0.58235622,  0.57229951,\n",
              "        0.21045323,  0.60003942,  0.62843052,  0.13146177,  0.55278726,\n",
              "        0.52315634,  0.60462589,  0.64815083,  0.57691539,  0.43767135,\n",
              "        0.62620831,  0.34749937,  0.5062066 ,  0.45907624,  0.57789786,\n",
              "        0.49301683,  0.46311157,  0.61596813,  0.57044804,  0.56456234,\n",
              "        0.63149617,  0.39861251,  0.4681735 ,  0.41024873,  0.48172734,\n",
              "        0.55452667,  0.52604524,  0.02089281,  0.47447577,  0.60939103,\n",
              "        0.6425395 ,  0.59782334,  0.56757184,  0.57694981,  0.65428339,\n",
              "        0.59840541,  0.45674008,  0.63955944,  0.04906659,  0.59356802,\n",
              "        0.56159357,  0.339511  ,  0.63485431,  0.50367174,  0.08389848,\n",
              "        0.51571344,  0.4816804 ,  0.58500369,  0.58819686,  0.59329337,\n",
              "        0.51002533,  0.50646245,  0.23147237,  0.56552724,  0.55259901,\n",
              "        0.62787323,  0.61441378,  0.18210967,  0.38742765,  0.55329406,\n",
              "        0.46338279,  0.4532706 ,  0.04538563,  0.4853372 ,  0.32533599,\n",
              "        0.64753916,  0.38999038,  0.60601982,  0.5049974 ,  0.08270903,\n",
              "        0.57224691,  0.47120797,  0.39502052,  0.09571336,  0.62875859,\n",
              "        0.61054724,  0.29674885,  0.61707808,  0.13990751,  0.57724073,\n",
              "        0.54868035,  0.24239633,  0.62608454,  0.52501334,  0.40752042,\n",
              "        0.47737838,  0.52366964,  0.50428079,  0.25953196,  0.5935459 ,\n",
              "        0.3685281 ,  0.58504307,  0.46603682,  0.55894496,  0.52032333,\n",
              "        0.18377758,  0.45709136,  0.62620831,  0.42586947,  0.5913875 ,\n",
              "        0.64599711,  0.64118166,  0.42915665,  0.58737222,  0.60297787,\n",
              "        0.50448931,  0.61053538,  0.21149176,  0.21155302,  0.08000536,\n",
              "        0.14345344,  0.0815488 ,  0.5050646 ,  0.28909224,  0.47511979,\n",
              "        0.59672747, -0.03893263,  0.59969141,  0.26862872,  0.51563288,\n",
              "        0.44742722,  0.12584285,  0.33258987,  0.08023316,  0.61316495,\n",
              "        0.60638764, -0.02773119,  0.28855886,  0.58429856,  0.51754478,\n",
              "        0.29612148,  0.4425818 ,  0.56962898,  0.53901152,  0.32285092,\n",
              "        0.53911641,  0.39628189,  0.65647874,  0.61380942,  0.61005648,\n",
              "        0.41381631,  0.60784484,  0.02736719,  0.4622366 , -0.00536774,\n",
              "        0.57873852,  0.50307433,  0.65085956,  0.5801682 ,  0.41702125,\n",
              "        0.44875944,  0.60629926,  0.54063792,  0.36999511,  0.50970711,\n",
              "        0.41283731,  0.36683947,  0.32581826,  0.51600399,  0.62656904,\n",
              "        0.59118013,  0.28772156,  0.06523536,  0.45254764,  0.27499715,\n",
              "       -0.04700458,  0.54509471,  0.64555728,  0.5305709 ,  0.53600733,\n",
              "        0.33650968,  0.60704834,  0.60989016,  0.55682055,  0.54589417,\n",
              "        0.18093304,  0.64278413,  0.63660958,  0.52005044,  0.57417031,\n",
              "        0.56225397,  0.53067079,  0.64136436,  0.39299999,  0.62411799,\n",
              "        0.56460155,  0.53060454,  0.63524587,  0.37021307,  0.20528006,\n",
              "        0.62159019,  0.37386181,  0.4528101 ,  0.57858088,  0.61279683,\n",
              "        0.47654725,  0.54688831,  0.46561082,  0.43386013,  0.51415517,\n",
              "        0.10910324,  0.11764111,  0.31462071,  0.36976306,  0.51160199,\n",
              "        0.65322531,  0.59631962,  0.36914794,  0.46688254,  0.64155977,\n",
              "        0.29064876,  0.46030949,  0.46017746,  0.40891305,  0.64466676,\n",
              "        0.60853392,  0.2169312 ,  0.36097391,  0.29841775,  0.59414073,\n",
              "        0.5960463 ,  0.14483816,  0.65329853,  0.42122509,  0.21971194,\n",
              "        0.22220448,  0.63057834,  0.53216432,  0.54219139,  0.22124095,\n",
              "        0.59229351,  0.33339765,  0.56593709,  0.38699649,  0.34671061,\n",
              "        0.6544047 ,  0.56792005,  0.58274351,  0.30092778,  0.55219162,\n",
              "        0.50825509,  0.39086611,  0.42594545,  0.53938642,  0.37735715,\n",
              "        0.58354689,  0.65420864,  0.5455079 ,  0.5915213 ,  0.59902739,\n",
              "        0.49163627,  0.64716479,  0.39295915,  0.50847733,  0.1782315 ,\n",
              "        0.64925952,  0.47061212,  0.58306219,  0.49695235,  0.39558996,\n",
              "        0.08508258,  0.3394996 ,  0.59662916,  0.19565968,  0.38560288,\n",
              "        0.64378021,  0.57671666,  0.51282083,  0.51854795,  0.11734898,\n",
              "        0.56921229,  0.58741008,  0.64994795,  0.59757408,  0.32550245,\n",
              "        0.45508192,  0.23058142,  0.1217802 ,  0.08559116,  0.17194561,\n",
              "        0.57610194,  0.61024497,  0.61312561,  0.10708212,  0.61084024,\n",
              "        0.61596813,  0.29108091,  0.48461489,  0.23850688,  0.317223  ,\n",
              "        0.50893452,  0.03099004,  0.19498192,  0.52715334,  0.65135983,\n",
              "        0.58829035,  0.57205262,  0.41381735,  0.65271262,  0.64465852,\n",
              "        0.61443678,  0.54025999,  0.61376763,  0.59022685,  0.42629833,\n",
              "        0.56838758,  0.32037715,  0.38149549,  0.59974184, -0.02313032,\n",
              "        0.33040319,  0.40691628,  0.2938218 ,  0.45647654,  0.5559536 ,\n",
              "        0.57305845,  0.39010651,  0.36898328,  0.51103675,  0.52047938,\n",
              "        0.59057392,  0.40584511,  0.60269469,  0.49784289,  0.60712541,\n",
              "        0.51606988,  0.38833064,  0.62620831,  0.2010999 ,  0.06251782,\n",
              "        0.58331491,  0.47196357,  0.45177702,  0.65429606,  0.54101344,\n",
              "        0.46082521,  0.63054244,  0.56363536,  0.31311905, -0.03608772,\n",
              "        0.56363536,  0.45634818,  0.11597096,  0.60150505,  0.64466676,\n",
              "        0.43793837,  0.62122717,  0.65248899,  0.42464367,  0.61724725,\n",
              "        0.54903534,  0.26991183,  0.63589655,  0.55260831,  0.49698377,\n",
              "        0.33652609,  0.10742555,  0.39391654,  0.53166003,  0.34850785,\n",
              "        0.39270727, -0.1070626 ,  0.28321338,  0.58811716,  0.53218705,\n",
              "        0.41261399,  0.60455425,  0.61296368,  0.26659311,  0.42482002,\n",
              "        0.64999349,  0.56363364,  0.42088686])"
            ]
          },
          "metadata": {
            "tags": []
          },
          "execution_count": 177
        }
      ]
    },
    {
      "cell_type": "code",
      "metadata": {
        "colab": {
          "base_uri": "https://localhost:8080/"
        },
        "id": "LVG1EPtYnpXp",
        "outputId": "2e29fe15-6d9d-4d9e-e42c-ca6e2fc3608c"
      },
      "source": [
        "silhouette_avg = silhouette_score(X_train, kmeans.labels_)\n",
        "silhouette_avg"
      ],
      "execution_count": 178,
      "outputs": [
        {
          "output_type": "execute_result",
          "data": {
            "text/plain": [
              "0.4560710020476966"
            ]
          },
          "metadata": {
            "tags": []
          },
          "execution_count": 178
        }
      ]
    },
    {
      "cell_type": "code",
      "metadata": {
        "colab": {
          "base_uri": "https://localhost:8080/",
          "height": 533
        },
        "id": "9dogJpsPnvKz",
        "outputId": "5bcf81cc-bf55-4bba-e01a-5dfbfc70bc9c"
      },
      "source": [
        "from yellowbrick.cluster import SilhouetteVisualizer\n",
        "visualizer = SilhouetteVisualizer(kmeans, colors='yellowbrick')\n",
        "visualizer.fit(X)"
      ],
      "execution_count": 179,
      "outputs": [
        {
          "output_type": "stream",
          "text": [
            "/usr/local/lib/python3.7/dist-packages/sklearn/base.py:197: FutureWarning: From version 0.24, get_params will raise an AttributeError if a parameter cannot be retrieved as an instance attribute. Previously it would return None.\n",
            "  FutureWarning)\n"
          ],
          "name": "stderr"
        },
        {
          "output_type": "execute_result",
          "data": {
            "text/plain": [
              "SilhouetteVisualizer(ax=<matplotlib.axes._subplots.AxesSubplot object at 0x7f400f7ab550>,\n",
              "                     model=None)"
            ]
          },
          "metadata": {
            "tags": []
          },
          "execution_count": 179
        },
        {
          "output_type": "display_data",
          "data": {
            "image/png": "[encoded data removed]",
            "text/plain": [
              "<Figure size 864x504 with 1 Axes>"
            ]
          },
          "metadata": {
            "tags": []
          }
        }
      ]
    },
    {
      "cell_type": "code",
      "metadata": {
        "id": "7RcPo0f-iGCJ"
      },
      "source": [
        "#score = silhouette_score(X, kmeans.labels_, metric='euclidean')"
      ],
      "execution_count": 180,
      "outputs": []
    },
    {
      "cell_type": "code",
      "metadata": {
        "id": "8HzvDAFUpSMt",
        "colab": {
          "base_uri": "https://localhost:8080/"
        },
        "outputId": "87a25a7c-d559-428b-dc7e-65259e095584"
      },
      "source": [
        "print(my_predicts)\n",
        "X_test['labels'] = my_predicts\n",
        "my_predicts_X = kmeans.predict(X)\n",
        "X['labels'] = my_predicts_X"
      ],
      "execution_count": 181,
      "outputs": [
        {
          "output_type": "stream",
          "text": [
            "[3 2 1 3 0 3 3 0 3 3 3 3 3 3 3 3 3 3 2 3 1 3 3 0 3 3 3 3 3 2 3 3 0 3 3 0 3\n",
            " 3 3 3 3 0 0 3 0 1 3 0 0 3 3 3 3 0 0 0 3 3 3 3 1 0 0 0 3 0 3 0 3 2 0 0 0 3\n",
            " 3 3 3 0 0 3 3 3 1 3 3 3 3 0 3 1 3 0 3 0 3 1 3 3 3 0 3 0 3 3 0 3 3 3 3 0 3\n",
            " 3 3 3 3 3 3 1 3 0 3 1 0 3 3 3 3 3 3 3 3 3 3 3 1 3 2 3 3 3 3 1 3 0 1 3 3 3\n",
            " 1 3 3 3 3 3 3 3 1 3 3 0 0 3 3 3 1 0 0 3 3 3 3 3 1 3 3 3 0 3 3 0 3 3 3 3 3\n",
            " 0 3 3 3 3 2 3 3 0 0 3 3 0 0 3 3 0 3 0 0 3 1 3 3 3 0 0 3 0 3 1 1 1 3 3 3 3\n",
            " 3 1 3 3 3 3 2 3 3 0 3 3 0 3]\n"
          ],
          "name": "stdout"
        },
        {
          "output_type": "stream",
          "text": [
            "/usr/local/lib/python3.7/dist-packages/ipykernel_launcher.py:2: SettingWithCopyWarning: \n",
            "A value is trying to be set on a copy of a slice from a DataFrame.\n",
            "Try using .loc[row_indexer,col_indexer] = value instead\n",
            "\n",
            "See the caveats in the documentation: https://pandas.pydata.org/pandas-docs/stable/user_guide/indexing.html#returning-a-view-versus-a-copy\n",
            "  \n"
          ],
          "name": "stderr"
        }
      ]
    },
    {
      "cell_type": "markdown",
      "metadata": {
        "id": "y6ijp7yFZBzx"
      },
      "source": [
        "# Plotting The clusters for k = 5"
      ]
    },
    {
      "cell_type": "code",
      "metadata": {
        "colab": {
          "base_uri": "https://localhost:8080/",
          "height": 648
        },
        "id": "FrbTRGa9auYi",
        "outputId": "c69d9c78-f6a0-45fd-960e-6443f126968c"
      },
      "source": [
        "X_plot = X\n",
        "print(my_predicts)\n",
        "X_test['labels'] = my_predicts\n",
        "my_predicts_X = kmeans_full.predict(X)\n",
        "X_plot['labels'] = my_predicts_X"
      ],
      "execution_count": 182,
      "outputs": [
        {
          "output_type": "stream",
          "text": [
            "[3 2 1 3 0 3 3 0 3 3 3 3 3 3 3 3 3 3 2 3 1 3 3 0 3 3 3 3 3 2 3 3 0 3 3 0 3\n",
            " 3 3 3 3 0 0 3 0 1 3 0 0 3 3 3 3 0 0 0 3 3 3 3 1 0 0 0 3 0 3 0 3 2 0 0 0 3\n",
            " 3 3 3 0 0 3 3 3 1 3 3 3 3 0 3 1 3 0 3 0 3 1 3 3 3 0 3 0 3 3 0 3 3 3 3 0 3\n",
            " 3 3 3 3 3 3 1 3 0 3 1 0 3 3 3 3 3 3 3 3 3 3 3 1 3 2 3 3 3 3 1 3 0 1 3 3 3\n",
            " 1 3 3 3 3 3 3 3 1 3 3 0 0 3 3 3 1 0 0 3 3 3 3 3 1 3 3 3 0 3 3 0 3 3 3 3 3\n",
            " 0 3 3 3 3 2 3 3 0 0 3 3 0 0 3 3 0 3 0 0 3 1 3 3 3 0 0 3 0 3 1 1 1 3 3 3 3\n",
            " 3 1 3 3 3 3 2 3 3 0 3 3 0 3]\n"
          ],
          "name": "stdout"
        },
        {
          "output_type": "stream",
          "text": [
            "/usr/local/lib/python3.7/dist-packages/ipykernel_launcher.py:3: SettingWithCopyWarning: \n",
            "A value is trying to be set on a copy of a slice from a DataFrame.\n",
            "Try using .loc[row_indexer,col_indexer] = value instead\n",
            "\n",
            "See the caveats in the documentation: https://pandas.pydata.org/pandas-docs/stable/user_guide/indexing.html#returning-a-view-versus-a-copy\n",
            "  This is separate from the ipykernel package so we can avoid doing imports until\n"
          ],
          "name": "stderr"
        },
        {
          "output_type": "error",
          "ename": "ValueError",
          "evalue": "ignored",
          "traceback": [
            "\u001b[0;31m---------------------------------------------------------------------------\u001b[0m",
            "\u001b[0;31mValueError\u001b[0m                                Traceback (most recent call last)",
            "\u001b[0;32m<ipython-input-182-ecd50d4f3b34>\u001b[0m in \u001b[0;36m<module>\u001b[0;34m()\u001b[0m\n\u001b[1;32m      2\u001b[0m \u001b[0mprint\u001b[0m\u001b[0;34m(\u001b[0m\u001b[0mmy_predicts\u001b[0m\u001b[0;34m)\u001b[0m\u001b[0;34m\u001b[0m\u001b[0;34m\u001b[0m\u001b[0m\n\u001b[1;32m      3\u001b[0m \u001b[0mX_test\u001b[0m\u001b[0;34m[\u001b[0m\u001b[0;34m'labels'\u001b[0m\u001b[0;34m]\u001b[0m \u001b[0;34m=\u001b[0m \u001b[0mmy_predicts\u001b[0m\u001b[0;34m\u001b[0m\u001b[0;34m\u001b[0m\u001b[0m\n\u001b[0;32m----> 4\u001b[0;31m \u001b[0mmy_predicts_X\u001b[0m \u001b[0;34m=\u001b[0m \u001b[0mkmeans_full\u001b[0m\u001b[0;34m.\u001b[0m\u001b[0mpredict\u001b[0m\u001b[0;34m(\u001b[0m\u001b[0mX\u001b[0m\u001b[0;34m)\u001b[0m\u001b[0;34m\u001b[0m\u001b[0;34m\u001b[0m\u001b[0m\n\u001b[0m\u001b[1;32m      5\u001b[0m \u001b[0mX_plot\u001b[0m\u001b[0;34m[\u001b[0m\u001b[0;34m'labels'\u001b[0m\u001b[0;34m]\u001b[0m \u001b[0;34m=\u001b[0m \u001b[0mmy_predicts_X\u001b[0m\u001b[0;34m\u001b[0m\u001b[0;34m\u001b[0m\u001b[0m\n",
            "\u001b[0;32m/usr/local/lib/python3.7/dist-packages/sklearn/cluster/_kmeans.py\u001b[0m in \u001b[0;36mpredict\u001b[0;34m(self, X, sample_weight)\u001b[0m\n\u001b[1;32m   1085\u001b[0m         \u001b[0mcheck_is_fitted\u001b[0m\u001b[0;34m(\u001b[0m\u001b[0mself\u001b[0m\u001b[0;34m)\u001b[0m\u001b[0;34m\u001b[0m\u001b[0;34m\u001b[0m\u001b[0m\n\u001b[1;32m   1086\u001b[0m \u001b[0;34m\u001b[0m\u001b[0m\n\u001b[0;32m-> 1087\u001b[0;31m         \u001b[0mX\u001b[0m \u001b[0;34m=\u001b[0m \u001b[0mself\u001b[0m\u001b[0;34m.\u001b[0m\u001b[0m_check_test_data\u001b[0m\u001b[0;34m(\u001b[0m\u001b[0mX\u001b[0m\u001b[0;34m)\u001b[0m\u001b[0;34m\u001b[0m\u001b[0;34m\u001b[0m\u001b[0m\n\u001b[0m\u001b[1;32m   1088\u001b[0m         \u001b[0mx_squared_norms\u001b[0m \u001b[0;34m=\u001b[0m \u001b[0mrow_norms\u001b[0m\u001b[0;34m(\u001b[0m\u001b[0mX\u001b[0m\u001b[0;34m,\u001b[0m \u001b[0msquared\u001b[0m\u001b[0;34m=\u001b[0m\u001b[0;32mTrue\u001b[0m\u001b[0;34m)\u001b[0m\u001b[0;34m\u001b[0m\u001b[0;34m\u001b[0m\u001b[0m\n\u001b[1;32m   1089\u001b[0m         return _labels_inertia(X, sample_weight, x_squared_norms,\n",
            "\u001b[0;32m/usr/local/lib/python3.7/dist-packages/sklearn/cluster/_kmeans.py\u001b[0m in \u001b[0;36m_check_test_data\u001b[0;34m(self, X)\u001b[0m\n\u001b[1;32m    815\u001b[0m             raise ValueError(\"Incorrect number of features. \"\n\u001b[1;32m    816\u001b[0m                              \"Got %d features, expected %d\" % (\n\u001b[0;32m--> 817\u001b[0;31m                                  n_features, expected_n_features))\n\u001b[0m\u001b[1;32m    818\u001b[0m \u001b[0;34m\u001b[0m\u001b[0m\n\u001b[1;32m    819\u001b[0m         \u001b[0;32mreturn\u001b[0m \u001b[0mX\u001b[0m\u001b[0;34m\u001b[0m\u001b[0;34m\u001b[0m\u001b[0m\n",
            "\u001b[0;31mValueError\u001b[0m: Incorrect number of features. Got 4 features, expected 3"
          ]
        }
      ]
    },
    {
      "cell_type": "markdown",
      "metadata": {
        "id": "PlkdVpuwtrn9"
      },
      "source": [
        "clusters characteristics : \n",
        "\n",
        "Cluster 0 : Middle price and high sell volume\n",
        "\n",
        "Cluster 1 : Low prices and low sell volume\n",
        "\n",
        "Cluster 2 : Low prices and middle sell volume\n",
        "\n",
        "Cluster 3 : Pretty low - middle prices and low sell \n",
        "\n",
        "Cluster 4 : high price and low sell volume"
      ]
    },
    {
      "cell_type": "code",
      "metadata": {
        "id": "-BwntjDZpmZ9",
        "colab": {
          "base_uri": "https://localhost:8080/",
          "height": 529
        },
        "outputId": "90b9ef84-16ac-4107-95e4-834350087019"
      },
      "source": [
        "sns.scatterplot(X_plot['price'], X_plot['total_sales'], hue = X_plot['labels'])"
      ],
      "execution_count": 183,
      "outputs": [
        {
          "output_type": "stream",
          "text": [
            "/usr/local/lib/python3.7/dist-packages/seaborn/_decorators.py:43: FutureWarning: Pass the following variables as keyword args: x, y. From version 0.12, the only valid positional argument will be `data`, and passing other arguments without an explicit keyword will result in an error or misinterpretation.\n",
            "  FutureWarning\n"
          ],
          "name": "stderr"
        },
        {
          "output_type": "execute_result",
          "data": {
            "text/plain": [
              "<matplotlib.axes._subplots.AxesSubplot at 0x7f400f729ed0>"
            ]
          },
          "metadata": {
            "tags": []
          },
          "execution_count": 183
        },
        {
          "output_type": "display_data",
          "data": {
            "image/png": "[encoded data removed]",
            "text/plain": [
              "<Figure size 864x504 with 1 Axes>"
            ]
          },
          "metadata": {
            "tags": []
          }
        }
      ]
    },
    {
      "cell_type": "code",
      "metadata": {
        "id": "YLtQgYl7fJ3r",
        "colab": {
          "base_uri": "https://localhost:8080/",
          "height": 744
        },
        "outputId": "88e34e55-e599-4ed0-f4fc-8a020e265289"
      },
      "source": [
        "sns.clustermap(X_test)"
      ],
      "execution_count": 184,
      "outputs": [
        {
          "output_type": "execute_result",
          "data": {
            "text/plain": [
              "<seaborn.matrix.ClusterGrid at 0x7f400f750bd0>"
            ]
          },
          "metadata": {
            "tags": []
          },
          "execution_count": 184
        },
        {
          "output_type": "display_data",
          "data": {
            "image/png": "[encoded data removed]",
            "text/plain": [
              "<Figure size 720x720 with 4 Axes>"
            ]
          },
          "metadata": {
            "tags": []
          }
        }
      ]
    },
    {
      "cell_type": "code",
      "metadata": {
        "id": "q9eEgXdTfkcy",
        "colab": {
          "base_uri": "https://localhost:8080/",
          "height": 744
        },
        "outputId": "a65e726f-7175-4562-d3aa-b5baac1dd22b"
      },
      "source": [
        "species = X_plot.pop(\"labels\")\n",
        "lut = dict(zip(species.unique(), \"rbg\"))\n",
        "u_labels = np.unique(labels)\n",
        "\n",
        "row_colors = species.map(lut)\n",
        "sns.clustermap(X_test, row_colors=row_colors)"
      ],
      "execution_count": 185,
      "outputs": [
        {
          "output_type": "execute_result",
          "data": {
            "text/plain": [
              "<seaborn.matrix.ClusterGrid at 0x7f400f70a650>"
            ]
          },
          "metadata": {
            "tags": []
          },
          "execution_count": 185
        },
        {
          "output_type": "display_data",
          "data": {
            "image/png": "[encoded data removed]",
            "text/plain": [
              "<Figure size 720x720 with 5 Axes>"
            ]
          },
          "metadata": {
            "tags": []
          }
        }
      ]
    },
    {
      "cell_type": "code",
      "metadata": {
        "id": "Y4PsOVIDaGq9",
        "colab": {
          "base_uri": "https://localhost:8080/",
          "height": 983
        },
        "outputId": "c36c14f2-2964-490d-d43f-880345c801de"
      },
      "source": [
        "labels = my_predicts\n",
        "my_predicts\n",
        "#Getting unique labels\n",
        " \n",
        "u_labels = np.unique(labels)\n",
        "print(u_labels)\n",
        "#plotting the results:\n",
        " \n",
        "for i in u_labels:\n",
        "    plt.scatter(X_test[labels == i , 0] , X_test[labels == i , 1] , label = i)\n",
        "plt.legend()\n",
        "plt.show()"
      ],
      "execution_count": 186,
      "outputs": [
        {
          "output_type": "stream",
          "text": [
            "[0 1 2 3]\n"
          ],
          "name": "stdout"
        },
        {
          "output_type": "error",
          "ename": "TypeError",
          "evalue": "ignored",
          "traceback": [
            "\u001b[0;31m---------------------------------------------------------------------------\u001b[0m",
            "\u001b[0;31mTypeError\u001b[0m                                 Traceback (most recent call last)",
            "\u001b[0;32m<ipython-input-186-1eb0e5f50e6c>\u001b[0m in \u001b[0;36m<module>\u001b[0;34m()\u001b[0m\n\u001b[1;32m      8\u001b[0m \u001b[0;34m\u001b[0m\u001b[0m\n\u001b[1;32m      9\u001b[0m \u001b[0;32mfor\u001b[0m \u001b[0mi\u001b[0m \u001b[0;32min\u001b[0m \u001b[0mu_labels\u001b[0m\u001b[0;34m:\u001b[0m\u001b[0;34m\u001b[0m\u001b[0;34m\u001b[0m\u001b[0m\n\u001b[0;32m---> 10\u001b[0;31m     \u001b[0mplt\u001b[0m\u001b[0;34m.\u001b[0m\u001b[0mscatter\u001b[0m\u001b[0;34m(\u001b[0m\u001b[0mX_test\u001b[0m\u001b[0;34m[\u001b[0m\u001b[0mlabels\u001b[0m \u001b[0;34m==\u001b[0m \u001b[0mi\u001b[0m \u001b[0;34m,\u001b[0m \u001b[0;36m0\u001b[0m\u001b[0;34m]\u001b[0m \u001b[0;34m,\u001b[0m \u001b[0mX_test\u001b[0m\u001b[0;34m[\u001b[0m\u001b[0mlabels\u001b[0m \u001b[0;34m==\u001b[0m \u001b[0mi\u001b[0m \u001b[0;34m,\u001b[0m \u001b[0;36m1\u001b[0m\u001b[0;34m]\u001b[0m \u001b[0;34m,\u001b[0m \u001b[0mlabel\u001b[0m \u001b[0;34m=\u001b[0m \u001b[0mi\u001b[0m\u001b[0;34m)\u001b[0m\u001b[0;34m\u001b[0m\u001b[0;34m\u001b[0m\u001b[0m\n\u001b[0m\u001b[1;32m     11\u001b[0m \u001b[0mplt\u001b[0m\u001b[0;34m.\u001b[0m\u001b[0mlegend\u001b[0m\u001b[0;34m(\u001b[0m\u001b[0;34m)\u001b[0m\u001b[0;34m\u001b[0m\u001b[0;34m\u001b[0m\u001b[0m\n\u001b[1;32m     12\u001b[0m \u001b[0mplt\u001b[0m\u001b[0;34m.\u001b[0m\u001b[0mshow\u001b[0m\u001b[0;34m(\u001b[0m\u001b[0;34m)\u001b[0m\u001b[0;34m\u001b[0m\u001b[0;34m\u001b[0m\u001b[0m\n",
            "\u001b[0;32m/usr/local/lib/python3.7/dist-packages/pandas/core/frame.py\u001b[0m in \u001b[0;36m__getitem__\u001b[0;34m(self, key)\u001b[0m\n\u001b[1;32m   2904\u001b[0m             \u001b[0;32mif\u001b[0m \u001b[0mself\u001b[0m\u001b[0;34m.\u001b[0m\u001b[0mcolumns\u001b[0m\u001b[0;34m.\u001b[0m\u001b[0mnlevels\u001b[0m \u001b[0;34m>\u001b[0m \u001b[0;36m1\u001b[0m\u001b[0;34m:\u001b[0m\u001b[0;34m\u001b[0m\u001b[0;34m\u001b[0m\u001b[0m\n\u001b[1;32m   2905\u001b[0m                 \u001b[0;32mreturn\u001b[0m \u001b[0mself\u001b[0m\u001b[0;34m.\u001b[0m\u001b[0m_getitem_multilevel\u001b[0m\u001b[0;34m(\u001b[0m\u001b[0mkey\u001b[0m\u001b[0;34m)\u001b[0m\u001b[0;34m\u001b[0m\u001b[0;34m\u001b[0m\u001b[0m\n\u001b[0;32m-> 2906\u001b[0;31m             \u001b[0mindexer\u001b[0m \u001b[0;34m=\u001b[0m \u001b[0mself\u001b[0m\u001b[0;34m.\u001b[0m\u001b[0mcolumns\u001b[0m\u001b[0;34m.\u001b[0m\u001b[0mget_loc\u001b[0m\u001b[0;34m(\u001b[0m\u001b[0mkey\u001b[0m\u001b[0;34m)\u001b[0m\u001b[0;34m\u001b[0m\u001b[0;34m\u001b[0m\u001b[0m\n\u001b[0m\u001b[1;32m   2907\u001b[0m             \u001b[0;32mif\u001b[0m \u001b[0mis_integer\u001b[0m\u001b[0;34m(\u001b[0m\u001b[0mindexer\u001b[0m\u001b[0;34m)\u001b[0m\u001b[0;34m:\u001b[0m\u001b[0;34m\u001b[0m\u001b[0;34m\u001b[0m\u001b[0m\n\u001b[1;32m   2908\u001b[0m                 \u001b[0mindexer\u001b[0m \u001b[0;34m=\u001b[0m \u001b[0;34m[\u001b[0m\u001b[0mindexer\u001b[0m\u001b[0;34m]\u001b[0m\u001b[0;34m\u001b[0m\u001b[0;34m\u001b[0m\u001b[0m\n",
            "\u001b[0;32m/usr/local/lib/python3.7/dist-packages/pandas/core/indexes/base.py\u001b[0m in \u001b[0;36mget_loc\u001b[0;34m(self, key, method, tolerance)\u001b[0m\n\u001b[1;32m   2896\u001b[0m             \u001b[0mcasted_key\u001b[0m \u001b[0;34m=\u001b[0m \u001b[0mself\u001b[0m\u001b[0;34m.\u001b[0m\u001b[0m_maybe_cast_indexer\u001b[0m\u001b[0;34m(\u001b[0m\u001b[0mkey\u001b[0m\u001b[0;34m)\u001b[0m\u001b[0;34m\u001b[0m\u001b[0;34m\u001b[0m\u001b[0m\n\u001b[1;32m   2897\u001b[0m             \u001b[0;32mtry\u001b[0m\u001b[0;34m:\u001b[0m\u001b[0;34m\u001b[0m\u001b[0;34m\u001b[0m\u001b[0m\n\u001b[0;32m-> 2898\u001b[0;31m                 \u001b[0;32mreturn\u001b[0m \u001b[0mself\u001b[0m\u001b[0;34m.\u001b[0m\u001b[0m_engine\u001b[0m\u001b[0;34m.\u001b[0m\u001b[0mget_loc\u001b[0m\u001b[0;34m(\u001b[0m\u001b[0mcasted_key\u001b[0m\u001b[0;34m)\u001b[0m\u001b[0;34m\u001b[0m\u001b[0;34m\u001b[0m\u001b[0m\n\u001b[0m\u001b[1;32m   2899\u001b[0m             \u001b[0;32mexcept\u001b[0m \u001b[0mKeyError\u001b[0m \u001b[0;32mas\u001b[0m \u001b[0merr\u001b[0m\u001b[0;34m:\u001b[0m\u001b[0;34m\u001b[0m\u001b[0;34m\u001b[0m\u001b[0m\n\u001b[1;32m   2900\u001b[0m                 \u001b[0;32mraise\u001b[0m \u001b[0mKeyError\u001b[0m\u001b[0;34m(\u001b[0m\u001b[0mkey\u001b[0m\u001b[0;34m)\u001b[0m \u001b[0;32mfrom\u001b[0m \u001b[0merr\u001b[0m\u001b[0;34m\u001b[0m\u001b[0;34m\u001b[0m\u001b[0m\n",
            "\u001b[0;32mpandas/_libs/index.pyx\u001b[0m in \u001b[0;36mpandas._libs.index.IndexEngine.get_loc\u001b[0;34m()\u001b[0m\n",
            "\u001b[0;32mpandas/_libs/index.pyx\u001b[0m in \u001b[0;36mpandas._libs.index.IndexEngine.get_loc\u001b[0;34m()\u001b[0m\n",
            "\u001b[0;31mTypeError\u001b[0m: '(array([False, False, False, False,  True, False, False,  True, False,\n       False, False, False, False, False, False, False, False, False,\n       False, False, False, False, False,  True, False, False, False,\n       False, False, False, False, False,  True, False, False,  True,\n       False, False, False, False, False,  True,  True, False,  True,\n       False, False,  True,  True, False, False, False, False,  True,\n        True,  True, False, False, False, False, False,  True,  True,\n        True, False,  True, False,  True, False, False,  True,  True,\n        True, False, False, False, False,  True,  True, False, False,\n       False, False, False, False, False, False,  True, False, False,\n       False,  True, False,  True, False, False, False, False, False,\n        True, False,  True, False, False,  True, False, False, False,\n       False,  True, False, False, False, False, False, False, False,\n       False, False,  True, False, False,  True, False, False, False,\n       False, False, False, False, False, False, False, False, False,\n       False, False, False, False, False, False, False, False,  True,\n       False, False, False, False, False, False, False, False, False,\n       False, False, False, False, False, False,  True,  True, False,\n       False, False, False,  True,  True, False, False, False, False,\n       False, False, False, False, False,  True, False, False,  True,\n       False, False, False, False, False,  True, False, False, False,\n       False, False, False, False,  True,  True, False, False,  True,\n        True, False, False,  True, False,  True,  True, False, False,\n       False, False, False,  True,  True, False,  True, False, False,\n       False, False, False, False, False, False, False, False, False,\n       False, False, False, False, False, False,  True, False, False,\n        True, False]), 0)' is an invalid key"
          ]
        }
      ]
    },
    {
      "cell_type": "code",
      "metadata": {
        "id": "nPaaUzduZYeW"
      },
      "source": [
        "nb_cluster = [i for i in range(10)]"
      ],
      "execution_count": null,
      "outputs": []
    },
    {
      "cell_type": "markdown",
      "metadata": {
        "id": "tK0KdiCWR7R_"
      },
      "source": [
        "# Elbow Methode"
      ]
    },
    {
      "cell_type": "code",
      "metadata": {
        "id": "Xy7wKp4PteuU"
      },
      "source": [
        "from sklearn.cluster import KMeans\n",
        "from sklearn import metrics\n",
        "from scipy.spatial.distance import cdist\n",
        "import numpy as np\n",
        "import matplotlib.pyplot as plt"
      ],
      "execution_count": null,
      "outputs": []
    },
    {
      "cell_type": "code",
      "metadata": {
        "id": "j3eKu1QYtPwq"
      },
      "source": [
        "distortions = []\n",
        "inertias = []\n",
        "mapping1 = {}\n",
        "mapping2 = {}\n",
        "K = range(1, 10) \n",
        "for k in K:\n",
        "    # Building and fitting the model\n",
        "    kmeanModel = KMeans(n_clusters=k).fit(X)\n",
        "    kmeanModel.fit(X)\n",
        " \n",
        "    distortions.append(sum(np.min(cdist(X, kmeanModel.cluster_centers_,\n",
        "                                        'euclidean'), axis=1)) / X.shape[0])\n",
        "    inertias.append(kmeanModel.inertia_)\n",
        " \n",
        "    mapping1[k] = sum(np.min(cdist(X, kmeanModel.cluster_centers_,\n",
        "                                   'euclidean'), axis=1)) / X.shape[0]\n",
        "    mapping2[k] = kmeanModel.inertia_"
      ],
      "execution_count": null,
      "outputs": []
    },
    {
      "cell_type": "code",
      "metadata": {
        "colab": {
          "base_uri": "https://localhost:8080/",
          "height": 376
        },
        "id": "UzHXTDJVtYZa",
        "outputId": "354ec02d-c556-48e8-9492-25660a425521"
      },
      "source": [
        "plt.plot(K, distortions, 'bo-')\n",
        "plt.xlabel('Values of K')\n",
        "plt.ylabel('Distortion')\n",
        "plt.title('The Elbow Method using Distortion')\n",
        "plt.show()"
      ],
      "execution_count": null,
      "outputs": [
        {
          "output_type": "display_data",
          "data": {
            "image/png": "[encoded data removed]",
            "text/plain": [
              "<Figure size 576x396 with 1 Axes>"
            ]
          },
          "metadata": {
            "tags": []
          }
        }
      ]
    },
    {
      "cell_type": "markdown",
      "metadata": {
        "id": "LvmbLRqeSXtt"
      },
      "source": [
        "# Text Sentiment Analysis"
      ]
    },
    {
      "cell_type": "markdown",
      "metadata": {
        "id": "ngi4L9HdSe2C"
      },
      "source": [
        "Still Not Working Yet"
      ]
    },
    {
      "cell_type": "code",
      "metadata": {
        "id": "jhxwjgBBEzi7"
      },
      "source": [
        " #df_full['post_excerpt'] = df_full['post_excerpt'].astype(str)\n",
        " df_full['post_excerpt'] = df_full['post_excerpt'].to_string()"
      ],
      "execution_count": null,
      "outputs": []
    },
    {
      "cell_type": "code",
      "metadata": {
        "id": "OvW37prCIeR3"
      },
      "source": [
        "list_ = []\n",
        "for i in range(len(df_full)):\n",
        "  list_.append(type(df_full['post_excerpt'][0]))\n",
        "\n",
        "list_df = pd.DataFrame(list_, columns=['type'])\n",
        "list_df.groupby('type')['type'].count()"
      ],
      "execution_count": null,
      "outputs": []
    },
    {
      "cell_type": "code",
      "metadata": {
        "id": "uaQGxZuZFGU8"
      },
      "source": [
        " df_full.info()"
      ],
      "execution_count": null,
      "outputs": []
    },
    {
      "cell_type": "code",
      "metadata": {
        "id": "4c5CKC2wbSVc"
      },
      "source": [
        "df_full['post_excerpt_bis'] = df_full['post_excerpt']\n",
        "for i in range(df_full['post_excerpt'].shape[0]):\n",
        "  df_full['post_excerpt_bis'][i] = df_full['post_excerpt'][i].split(' ')"
      ],
      "execution_count": null,
      "outputs": []
    },
    {
      "cell_type": "code",
      "metadata": {
        "id": "9xe1DWCq6fvQ"
      },
      "source": [
        "# mod_string = org_string[:size - 3]\n",
        "df_full['subjectivity'] = df_full['post_excerpt']\n",
        "df_full['polarity'] = df_full['post_excerpt']\n",
        "for i in range(df_full['post_excerpt'].shape[0]):\n",
        "  df_full['subjectivity'][i] = TextBlob(df_full['post_excerpt'][i]).sentiment.subjectivity\n",
        "  df_full['polarity'][i] = TextBlob(df_full['post_excerpt'][i]).sentiment.polarity"
      ],
      "execution_count": null,
      "outputs": []
    }
  ]
}